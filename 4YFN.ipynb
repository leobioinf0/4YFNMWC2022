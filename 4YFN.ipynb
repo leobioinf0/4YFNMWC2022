{
  "nbformat": 4,
  "nbformat_minor": 0,
  "metadata": {
    "colab": {
      "name": "4YFN.ipynb",
      "provenance": [],
      "collapsed_sections": [],
      "toc_visible": true,
      "mount_file_id": "1eaVvEEP7LpdUToFST56m9HmCL0Lk4rME",
      "authorship_tag": "ABX9TyOJJF2TV389Z9mZciPfJQw+",
      "include_colab_link": true
    },
    "kernelspec": {
      "name": "python3",
      "display_name": "Python 3"
    },
    "language_info": {
      "name": "python"
    },
    "widgets": {
      "application/vnd.jupyter.widget-state+json": {
        "78db0eb50d364011ab0d4458cf2f0a8a": {
          "model_module": "@jupyter-widgets/controls",
          "model_name": "HBoxModel",
          "model_module_version": "1.5.0",
          "state": {
            "_view_name": "HBoxView",
            "_dom_classes": [],
            "_model_name": "HBoxModel",
            "_view_module": "@jupyter-widgets/controls",
            "_model_module_version": "1.5.0",
            "_view_count": null,
            "_view_module_version": "1.5.0",
            "box_style": "",
            "layout": "IPY_MODEL_4a2901e3b1c1410eb60c7f2b9853edc8",
            "_model_module": "@jupyter-widgets/controls",
            "children": [
              "IPY_MODEL_f27f4f3d17cf4a8c80a1481b78e35964",
              "IPY_MODEL_3d6862ed3dbd4387ae46e52ed69a9480",
              "IPY_MODEL_97d6ac76d1be4c3387760302b5e6c1e1"
            ]
          }
        },
        "4a2901e3b1c1410eb60c7f2b9853edc8": {
          "model_module": "@jupyter-widgets/base",
          "model_name": "LayoutModel",
          "model_module_version": "1.2.0",
          "state": {
            "_view_name": "LayoutView",
            "grid_template_rows": null,
            "right": null,
            "justify_content": null,
            "_view_module": "@jupyter-widgets/base",
            "overflow": null,
            "_model_module_version": "1.2.0",
            "_view_count": null,
            "flex_flow": null,
            "width": null,
            "min_width": null,
            "border": null,
            "align_items": null,
            "bottom": null,
            "_model_module": "@jupyter-widgets/base",
            "top": null,
            "grid_column": null,
            "overflow_y": null,
            "overflow_x": null,
            "grid_auto_flow": null,
            "grid_area": null,
            "grid_template_columns": null,
            "flex": null,
            "_model_name": "LayoutModel",
            "justify_items": null,
            "grid_row": null,
            "max_height": null,
            "align_content": null,
            "visibility": null,
            "align_self": null,
            "height": null,
            "min_height": null,
            "padding": null,
            "grid_auto_rows": null,
            "grid_gap": null,
            "max_width": null,
            "order": null,
            "_view_module_version": "1.2.0",
            "grid_template_areas": null,
            "object_position": null,
            "object_fit": null,
            "grid_auto_columns": null,
            "margin": null,
            "display": null,
            "left": null
          }
        },
        "f27f4f3d17cf4a8c80a1481b78e35964": {
          "model_module": "@jupyter-widgets/controls",
          "model_name": "HTMLModel",
          "model_module_version": "1.5.0",
          "state": {
            "_view_name": "HTMLView",
            "style": "IPY_MODEL_90a785b3ae1347deb1540cb5fe67728a",
            "_dom_classes": [],
            "description": "",
            "_model_name": "HTMLModel",
            "placeholder": "​",
            "_view_module": "@jupyter-widgets/controls",
            "_model_module_version": "1.5.0",
            "value": "100%",
            "_view_count": null,
            "_view_module_version": "1.5.0",
            "description_tooltip": null,
            "_model_module": "@jupyter-widgets/controls",
            "layout": "IPY_MODEL_ee59b6727ee34549b7061aa4fc9f8c12"
          }
        },
        "3d6862ed3dbd4387ae46e52ed69a9480": {
          "model_module": "@jupyter-widgets/controls",
          "model_name": "FloatProgressModel",
          "model_module_version": "1.5.0",
          "state": {
            "_view_name": "ProgressView",
            "style": "IPY_MODEL_59c83d79246f4ed18dad16b91313657e",
            "_dom_classes": [],
            "description": "",
            "_model_name": "FloatProgressModel",
            "bar_style": "success",
            "max": 4,
            "_view_module": "@jupyter-widgets/controls",
            "_model_module_version": "1.5.0",
            "value": 4,
            "_view_count": null,
            "_view_module_version": "1.5.0",
            "orientation": "horizontal",
            "min": 0,
            "description_tooltip": null,
            "_model_module": "@jupyter-widgets/controls",
            "layout": "IPY_MODEL_28ba8e4ca22c45bd98d96430c8f92302"
          }
        },
        "97d6ac76d1be4c3387760302b5e6c1e1": {
          "model_module": "@jupyter-widgets/controls",
          "model_name": "HTMLModel",
          "model_module_version": "1.5.0",
          "state": {
            "_view_name": "HTMLView",
            "style": "IPY_MODEL_06f0a33340124fc49cf1e9aeec272d0a",
            "_dom_classes": [],
            "description": "",
            "_model_name": "HTMLModel",
            "placeholder": "​",
            "_view_module": "@jupyter-widgets/controls",
            "_model_module_version": "1.5.0",
            "value": " 4/4 [00:03&lt;00:00,  1.32s/it]",
            "_view_count": null,
            "_view_module_version": "1.5.0",
            "description_tooltip": null,
            "_model_module": "@jupyter-widgets/controls",
            "layout": "IPY_MODEL_5d6f59a517284c1592cfadfa8810a5ab"
          }
        },
        "90a785b3ae1347deb1540cb5fe67728a": {
          "model_module": "@jupyter-widgets/controls",
          "model_name": "DescriptionStyleModel",
          "model_module_version": "1.5.0",
          "state": {
            "_view_name": "StyleView",
            "_model_name": "DescriptionStyleModel",
            "description_width": "",
            "_view_module": "@jupyter-widgets/base",
            "_model_module_version": "1.5.0",
            "_view_count": null,
            "_view_module_version": "1.2.0",
            "_model_module": "@jupyter-widgets/controls"
          }
        },
        "ee59b6727ee34549b7061aa4fc9f8c12": {
          "model_module": "@jupyter-widgets/base",
          "model_name": "LayoutModel",
          "model_module_version": "1.2.0",
          "state": {
            "_view_name": "LayoutView",
            "grid_template_rows": null,
            "right": null,
            "justify_content": null,
            "_view_module": "@jupyter-widgets/base",
            "overflow": null,
            "_model_module_version": "1.2.0",
            "_view_count": null,
            "flex_flow": null,
            "width": null,
            "min_width": null,
            "border": null,
            "align_items": null,
            "bottom": null,
            "_model_module": "@jupyter-widgets/base",
            "top": null,
            "grid_column": null,
            "overflow_y": null,
            "overflow_x": null,
            "grid_auto_flow": null,
            "grid_area": null,
            "grid_template_columns": null,
            "flex": null,
            "_model_name": "LayoutModel",
            "justify_items": null,
            "grid_row": null,
            "max_height": null,
            "align_content": null,
            "visibility": null,
            "align_self": null,
            "height": null,
            "min_height": null,
            "padding": null,
            "grid_auto_rows": null,
            "grid_gap": null,
            "max_width": null,
            "order": null,
            "_view_module_version": "1.2.0",
            "grid_template_areas": null,
            "object_position": null,
            "object_fit": null,
            "grid_auto_columns": null,
            "margin": null,
            "display": null,
            "left": null
          }
        },
        "59c83d79246f4ed18dad16b91313657e": {
          "model_module": "@jupyter-widgets/controls",
          "model_name": "ProgressStyleModel",
          "model_module_version": "1.5.0",
          "state": {
            "_view_name": "StyleView",
            "_model_name": "ProgressStyleModel",
            "description_width": "",
            "_view_module": "@jupyter-widgets/base",
            "_model_module_version": "1.5.0",
            "_view_count": null,
            "_view_module_version": "1.2.0",
            "bar_color": null,
            "_model_module": "@jupyter-widgets/controls"
          }
        },
        "28ba8e4ca22c45bd98d96430c8f92302": {
          "model_module": "@jupyter-widgets/base",
          "model_name": "LayoutModel",
          "model_module_version": "1.2.0",
          "state": {
            "_view_name": "LayoutView",
            "grid_template_rows": null,
            "right": null,
            "justify_content": null,
            "_view_module": "@jupyter-widgets/base",
            "overflow": null,
            "_model_module_version": "1.2.0",
            "_view_count": null,
            "flex_flow": null,
            "width": null,
            "min_width": null,
            "border": null,
            "align_items": null,
            "bottom": null,
            "_model_module": "@jupyter-widgets/base",
            "top": null,
            "grid_column": null,
            "overflow_y": null,
            "overflow_x": null,
            "grid_auto_flow": null,
            "grid_area": null,
            "grid_template_columns": null,
            "flex": null,
            "_model_name": "LayoutModel",
            "justify_items": null,
            "grid_row": null,
            "max_height": null,
            "align_content": null,
            "visibility": null,
            "align_self": null,
            "height": null,
            "min_height": null,
            "padding": null,
            "grid_auto_rows": null,
            "grid_gap": null,
            "max_width": null,
            "order": null,
            "_view_module_version": "1.2.0",
            "grid_template_areas": null,
            "object_position": null,
            "object_fit": null,
            "grid_auto_columns": null,
            "margin": null,
            "display": null,
            "left": null
          }
        },
        "06f0a33340124fc49cf1e9aeec272d0a": {
          "model_module": "@jupyter-widgets/controls",
          "model_name": "DescriptionStyleModel",
          "model_module_version": "1.5.0",
          "state": {
            "_view_name": "StyleView",
            "_model_name": "DescriptionStyleModel",
            "description_width": "",
            "_view_module": "@jupyter-widgets/base",
            "_model_module_version": "1.5.0",
            "_view_count": null,
            "_view_module_version": "1.2.0",
            "_model_module": "@jupyter-widgets/controls"
          }
        },
        "5d6f59a517284c1592cfadfa8810a5ab": {
          "model_module": "@jupyter-widgets/base",
          "model_name": "LayoutModel",
          "model_module_version": "1.2.0",
          "state": {
            "_view_name": "LayoutView",
            "grid_template_rows": null,
            "right": null,
            "justify_content": null,
            "_view_module": "@jupyter-widgets/base",
            "overflow": null,
            "_model_module_version": "1.2.0",
            "_view_count": null,
            "flex_flow": null,
            "width": null,
            "min_width": null,
            "border": null,
            "align_items": null,
            "bottom": null,
            "_model_module": "@jupyter-widgets/base",
            "top": null,
            "grid_column": null,
            "overflow_y": null,
            "overflow_x": null,
            "grid_auto_flow": null,
            "grid_area": null,
            "grid_template_columns": null,
            "flex": null,
            "_model_name": "LayoutModel",
            "justify_items": null,
            "grid_row": null,
            "max_height": null,
            "align_content": null,
            "visibility": null,
            "align_self": null,
            "height": null,
            "min_height": null,
            "padding": null,
            "grid_auto_rows": null,
            "grid_gap": null,
            "max_width": null,
            "order": null,
            "_view_module_version": "1.2.0",
            "grid_template_areas": null,
            "object_position": null,
            "object_fit": null,
            "grid_auto_columns": null,
            "margin": null,
            "display": null,
            "left": null
          }
        }
      }
    }
  },
  "cells": [
    {
      "cell_type": "markdown",
      "metadata": {
        "id": "view-in-github",
        "colab_type": "text"
      },
      "source": [
        "<a href=\"https://colab.research.google.com/github/leobioinf0/4YFNMWC2022/blob/main/4YFN.ipynb\" target=\"_parent\"><img src=\"https://colab.research.google.com/assets/colab-badge.svg\" alt=\"Open In Colab\"/></a>"
      ]
    },
    {
      "cell_type": "markdown",
      "source": [
        "## install/upgrade"
      ],
      "metadata": {
        "id": "CyvhBzYin9Av"
      }
    },
    {
      "cell_type": "markdown",
      "source": [
        ""
      ],
      "metadata": {
        "id": "rGFHU1POn3xj"
      }
    },
    {
      "cell_type": "code",
      "source": [
        "!pip3 install --upgrade matplotlib\n",
        "!pip3 install --upgrade scikit-learn\n",
        "!pip3 install --upgrade numpy\n",
        "!pip3 install --upgrade pandas\n",
        "!pip3 install --upgrade seaborn"
      ],
      "metadata": {
        "id": "CFNkzDQet3R1"
      },
      "execution_count": null,
      "outputs": []
    },
    {
      "cell_type": "markdown",
      "metadata": {
        "_cell_guid": "c2c4a258-c804-4622-9155-b01ac0ee2412",
        "_uuid": "f1bb865aa1a9dfc9906cf6cfdb869f871d82e36e",
        "id": "PGFBHb029TNL"
      },
      "source": [
        "## Import"
      ]
    },
    {
      "cell_type": "code",
      "source": [
        "import matplotlib.pyplot as plt\n",
        "import matplotlib.cm as cm\n",
        "import itertools\n",
        "import plotly.io as pio\n",
        "from sklearn.cluster import KMeans\n",
        "from sklearn import preprocessing, model_selection, metrics, feature_selection\n",
        "from sklearn.model_selection import GridSearchCV\n",
        "from sklearn.svm import SVC\n",
        "from sklearn import neighbors, linear_model, svm, tree, ensemble\n",
        "from sklearn.ensemble import AdaBoostClassifier\n",
        "import plotly.graph_objs as go\n",
        "from plotly.offline import init_notebook_mode,iplot\n",
        "from IPython.display import Image, display\n",
        "from IPython.display import HTML\n",
        "from matplotlib import animation\n",
        "import pandas as pd\n",
        "import matplotlib.ticker as ticker\n",
        "from pandas.api.types import infer_dtype\n",
        "from pandas.api.types import is_categorical_dtype\n",
        "from pandas.api.types import is_bool_dtype\n",
        "from pandas.api.types import is_numeric_dtype\n",
        "from pandas.api.types import is_datetime64_dtype\n",
        "import numpy as np\n",
        "from sklearn.model_selection import train_test_split\n",
        "from sklearn.preprocessing import MinMaxScaler\n",
        "import matplotlib.pyplot as plt\n",
        "import seaborn as sns\n",
        "from tqdm import tqdm_notebook\n",
        "import warnings\n",
        "import matplotlib.pyplot as plt\n",
        "import seaborn as sns\n",
        "from sklearn.metrics import f1_score\n",
        "warnings.filterwarnings('ignore')\n",
        "plt.rcParams['image.cmap'] = \"bwr\"\n",
        "plt.rcParams['savefig.bbox'] = \"tight\"\n",
        "sns.set_theme(style=\"whitegrid\")\n",
        "init_notebook_mode(connected=True)\n",
        "plt.rcParams[\"patch.force_edgecolor\"] = True\n",
        "plt.style.use('fivethirtyeight')\n",
        "pio.renderers.default = \"colab\"\n",
        "%matplotlib inline"
      ],
      "metadata": {
        "colab": {
          "base_uri": "https://localhost:8080/",
          "height": 17
        },
        "id": "y6MGHAI6lBv7",
        "outputId": "c76ae599-73eb-416e-c12f-8350a547e8dd"
      },
      "execution_count": 1,
      "outputs": [
        {
          "output_type": "display_data",
          "data": {
            "text/html": [
              "        <script type=\"text/javascript\">\n",
              "        window.PlotlyConfig = {MathJaxConfig: 'local'};\n",
              "        if (window.MathJax) {MathJax.Hub.Config({SVG: {font: \"STIX-Web\"}});}\n",
              "        if (typeof require !== 'undefined') {\n",
              "        require.undef(\"plotly\");\n",
              "        requirejs.config({\n",
              "            paths: {\n",
              "                'plotly': ['https://cdn.plot.ly/plotly-2.8.3.min']\n",
              "            }\n",
              "        });\n",
              "        require(['plotly'], function(Plotly) {\n",
              "            window._Plotly = Plotly;\n",
              "        });\n",
              "        }\n",
              "        </script>\n",
              "        "
            ]
          },
          "metadata": {}
        }
      ]
    },
    {
      "cell_type": "markdown",
      "source": [
        "## Functions"
      ],
      "metadata": {
        "id": "9dQFxx0Nq8b8"
      }
    },
    {
      "cell_type": "code",
      "source": [
        "class Class_Fit(object):\n",
        "    def __init__(self, clf, params=None):\n",
        "        if params:            \n",
        "            self.clf = clf(**params)\n",
        "        else:\n",
        "            self.clf = clf()\n",
        "\n",
        "    def train(self, x_train, y_train):\n",
        "        self.clf.fit(x_train, y_train)\n",
        "\n",
        "    def predict(self, x):\n",
        "        return self.clf.predict(x)\n",
        "    \n",
        "    def grid_search(self, parameters, Kfold):\n",
        "        self.grid = GridSearchCV(estimator = self.clf, param_grid = parameters, cv = Kfold)\n",
        "        \n",
        "    def grid_fit(self, X, Y):\n",
        "        self.grid.fit(X, Y)\n",
        "        \n",
        "    def grid_predict(self, X, Y):\n",
        "        self.predictions = self.grid.predict(X)\n",
        "        print(\"Precision: {:.2f} % \".format(100*metrics.accuracy_score(Y, self.predictions)))\n",
        "        \n",
        "\n",
        "import math\n",
        "def rounder(n):\n",
        "    \"\"\"\n",
        "    Round up to the first digit that is not zero\n",
        "    \"\"\"\n",
        "    if n == 0:\n",
        "        return n\n",
        "    else:\n",
        "        k = 1 - int(math.log10(n))\n",
        "        return round(n, 1 if n > 1 else k)\n",
        "\n",
        "def describer(dataframe):\n",
        "    \"\"\"\n",
        "    description of dataframe\n",
        "    \"\"\"\n",
        "    desc_df = round(dataframe.describe(include=\"all\"),2).T\n",
        "    desc_df[\"unique\"]=dataframe.nunique()\n",
        "    desc_df[\"NullAny\"]= dataframe.isnull().any()\n",
        "    desc_df[\"NullSum\"]=dataframe.isnull().sum()\n",
        "    desc_df[\"NullPct\"]=(dataframe.isnull().sum()/len(dataframe)*100).apply(rounder)\n",
        "    desc_df[\"dtypes\"]=dataframe.dtypes\n",
        "    desc_df[\"dtypes\"] = desc_df[\"dtypes\"].astype('category')\n",
        "    desc_df.sort_values(by=\"dtypes\", inplace=True)\n",
        "    return(desc_df)\n",
        "def label(x, color, label):\n",
        "    '''\n",
        "    create labels for joy plot\n",
        "    '''\n",
        "    ax = plt.gca()\n",
        "    ax.text(0, .2, label, fontweight=\"bold\", color=color,ha=\"left\", va=\"center\", transform=ax.transAxes)\n",
        "\n",
        "def plot_joy(df, col, clusters):\n",
        "    '''\n",
        "    Create Joyplot\n",
        "    '''\n",
        "    sns.set_theme(style=\"whitegrid\", rc={\"axes.facecolor\": (0, 0, 0, 0)})\n",
        "    n_clus=len(df[clusters].unique())\n",
        "    pal = sns.cubehelix_palette(n_colors=n_clus, rot=.25, light=.7)\n",
        "    g = sns.FacetGrid(df, \n",
        "                        row=clusters, \n",
        "                        hue=clusters, \n",
        "                        aspect=15, height=1, palette=pal)\n",
        "    g.map(sns.kdeplot, col, bw_adjust=.8, clip_on=False, fill=True, alpha=.8, linewidth=1.5)\n",
        "    g.refline(y=0, linewidth=1, linestyle=\"-\", color=None, clip_on=False)\n",
        "    g.map(label, col)\n",
        "    g.figure.subplots_adjust(hspace=-.25)\n",
        "    g.set_titles(\"\")\n",
        "    g.fig.suptitle(\"Distribution of {} in each {}\".format(col, clusters))\n",
        "    g.set(yticks=[], ylabel=\"\")\n",
        "    g.despine(bottom=True, left=True)\n",
        "    return g\n",
        "def custom_plots(dat, color, title, ax=None, cW=None):\n",
        "    '''\n",
        "    Generate proportion histogram and tescriptive table of variable \n",
        "    taking into account the type of data\n",
        "    ''' \n",
        "    if ax is None:\n",
        "        ax = plt.gca()\n",
        "    if is_categorical_dtype(dat):\n",
        "        desc_table = dat.describe().to_frame().T\n",
        "        if dat.nunique() > 31:\n",
        "            top20 = dat.value_counts().head(20)/len(dat)\n",
        "            ax.barh(y=top20.index,\n",
        "                    width=top20,\n",
        "                    color=color)\n",
        "            title = title + ' ' +\"Top-20\"\n",
        "        else:\n",
        "            sns.countplot(x=dat, ax=ax)\n",
        "\n",
        "\n",
        "    elif is_bool_dtype(dat):\n",
        "        desc_table = dat.describe().to_frame().T\n",
        "        ax.pie(dat.value_counts(),\n",
        "               labels = dat.unique(),\n",
        "               startangle=45,\n",
        "               autopct=lambda p: '{:.3f}%({:.0f})'.format(p,(p/100)*len(dat)))\n",
        "\n",
        "\n",
        "    elif infer_dtype(dat) == \"O\":\n",
        "        desc_table = dat.describe().to_frame().T\n",
        "        sns.histplot(x=dat, stat=\"count\", color=color,\n",
        "                     kde=True, ax=ax)\n",
        "    else:\n",
        "        desc_table = round(dat.describe(),2).to_frame().T\n",
        "        \n",
        "        if dat.nunique() == 2:\n",
        "            ax.pie(dat.value_counts(),\n",
        "               labels = dat.unique(),\n",
        "               startangle=45,\n",
        "               autopct=lambda p: '{:.1f}%({:.0f})'.format(p,(p/100)*len(dat)))\n",
        "        \n",
        "        elif dat.nunique() == 6:\n",
        "            sns.countplot(x=dat, ax=ax)\n",
        "        else:\n",
        "            sns.histplot(x=dat, stat=\"count\", color=color,kde=True, ax=ax)\n",
        "    \n",
        "    the_table = ax.table(cellText=desc_table.values,\n",
        "            colLabels=desc_table.columns,\n",
        "            loc='top',\n",
        "            colWidths=cW)\n",
        "    the_table.auto_set_font_size(False)\n",
        "    the_table.set_fontsize(9)\n",
        "\n",
        "    ax.set_title(title + ' ' + dat.name,\n",
        "                 fontsize = 14,\n",
        "                 fontweight = \"bold\",\n",
        "                 loc='center',\n",
        "                 pad=31)\n",
        "    ax.set_xlabel(\"\")\n",
        "    return(ax)\n",
        "\n",
        "def animate(frame):\n",
        "    '''\n",
        "    Animate frames\n",
        "    '''\n",
        "    ax.view_init(elev=20, azim=frame)\n",
        "    plt.pause(.001)\n",
        "    return fig"
      ],
      "metadata": {
        "id": "ugOJmQwHlSBm"
      },
      "execution_count": 2,
      "outputs": []
    },
    {
      "cell_type": "markdown",
      "source": [
        "## client table"
      ],
      "metadata": {
        "id": "zxas6I147wzM"
      }
    },
    {
      "cell_type": "markdown",
      "metadata": {
        "_cell_guid": "00704161-ee27-45e5-8abe-582799682a6a",
        "_uuid": "9fef0af109df66769564679418201e09990a5dea",
        "id": "JNiod51l9TNP"
      },
      "source": [
        "Then, I load the data. Once done, I also give some basic informations on the content of the dataframe: the type of the various variables, the number of null values and their percentage with respect to the total number of entries:"
      ]
    },
    {
      "cell_type": "code",
      "source": [
        "url1=\"https://challenges-asset-files.s3.us-east-2.amazonaws.com/data_sets/Data-Science/4+-+events/mwc22/mwc22-client_table.csv\"\n",
        "client_table = pd.read_csv(url1,\n",
        "                           decimal=',',\n",
        "                           dtype={'CLIENT ID': \"category\",\n",
        "                                  'CLIENT_SEGMENT': \"category\",\n",
        "                                  'RECEIVED_COMMUNICATION': \"category\"})\n",
        "client_table.columns = client_table.columns.str.replace(\" \",\"_\").str.lower()\n",
        "print('Dataframe dimensions:', client_table.shape)\n",
        "client_table.head()"
      ],
      "metadata": {
        "colab": {
          "base_uri": "https://localhost:8080/",
          "height": 223
        },
        "id": "hwN-pR8zihnE",
        "outputId": "1e942a43-af90-4865-cc65-36058fc122f2"
      },
      "execution_count": 3,
      "outputs": [
        {
          "output_type": "stream",
          "name": "stdout",
          "text": [
            "Dataframe dimensions: (35884, 5)\n"
          ]
        },
        {
          "output_type": "execute_result",
          "data": {
            "text/html": [
              "\n",
              "  <div id=\"df-783ce2e6-52be-493b-b9f5-50da162476f8\">\n",
              "    <div class=\"colab-df-container\">\n",
              "      <div>\n",
              "<style scoped>\n",
              "    .dataframe tbody tr th:only-of-type {\n",
              "        vertical-align: middle;\n",
              "    }\n",
              "\n",
              "    .dataframe tbody tr th {\n",
              "        vertical-align: top;\n",
              "    }\n",
              "\n",
              "    .dataframe thead th {\n",
              "        text-align: right;\n",
              "    }\n",
              "</style>\n",
              "<table border=\"1\" class=\"dataframe\">\n",
              "  <thead>\n",
              "    <tr style=\"text-align: right;\">\n",
              "      <th></th>\n",
              "      <th>client_id</th>\n",
              "      <th>client_segment</th>\n",
              "      <th>avg_conso</th>\n",
              "      <th>avg_basket_size</th>\n",
              "      <th>received_communication</th>\n",
              "    </tr>\n",
              "  </thead>\n",
              "  <tbody>\n",
              "    <tr>\n",
              "      <th>0</th>\n",
              "      <td>24321771</td>\n",
              "      <td>6</td>\n",
              "      <td>67.25</td>\n",
              "      <td>201.75</td>\n",
              "      <td>0</td>\n",
              "    </tr>\n",
              "    <tr>\n",
              "      <th>1</th>\n",
              "      <td>24321859</td>\n",
              "      <td>2</td>\n",
              "      <td>58.33</td>\n",
              "      <td>350.00</td>\n",
              "      <td>0</td>\n",
              "    </tr>\n",
              "    <tr>\n",
              "      <th>2</th>\n",
              "      <td>24321880</td>\n",
              "      <td>3</td>\n",
              "      <td>46.67</td>\n",
              "      <td>112.00</td>\n",
              "      <td>0</td>\n",
              "    </tr>\n",
              "    <tr>\n",
              "      <th>3</th>\n",
              "      <td>24321957</td>\n",
              "      <td>2</td>\n",
              "      <td>50.00</td>\n",
              "      <td>600.00</td>\n",
              "      <td>0</td>\n",
              "    </tr>\n",
              "    <tr>\n",
              "      <th>4</th>\n",
              "      <td>24321962</td>\n",
              "      <td>4</td>\n",
              "      <td>10.00</td>\n",
              "      <td>120.00</td>\n",
              "      <td>0</td>\n",
              "    </tr>\n",
              "  </tbody>\n",
              "</table>\n",
              "</div>\n",
              "      <button class=\"colab-df-convert\" onclick=\"convertToInteractive('df-783ce2e6-52be-493b-b9f5-50da162476f8')\"\n",
              "              title=\"Convert this dataframe to an interactive table.\"\n",
              "              style=\"display:none;\">\n",
              "        \n",
              "  <svg xmlns=\"http://www.w3.org/2000/svg\" height=\"24px\"viewBox=\"0 0 24 24\"\n",
              "       width=\"24px\">\n",
              "    <path d=\"M0 0h24v24H0V0z\" fill=\"none\"/>\n",
              "    <path d=\"M18.56 5.44l.94 2.06.94-2.06 2.06-.94-2.06-.94-.94-2.06-.94 2.06-2.06.94zm-11 1L8.5 8.5l.94-2.06 2.06-.94-2.06-.94L8.5 2.5l-.94 2.06-2.06.94zm10 10l.94 2.06.94-2.06 2.06-.94-2.06-.94-.94-2.06-.94 2.06-2.06.94z\"/><path d=\"M17.41 7.96l-1.37-1.37c-.4-.4-.92-.59-1.43-.59-.52 0-1.04.2-1.43.59L10.3 9.45l-7.72 7.72c-.78.78-.78 2.05 0 2.83L4 21.41c.39.39.9.59 1.41.59.51 0 1.02-.2 1.41-.59l7.78-7.78 2.81-2.81c.8-.78.8-2.07 0-2.86zM5.41 20L4 18.59l7.72-7.72 1.47 1.35L5.41 20z\"/>\n",
              "  </svg>\n",
              "      </button>\n",
              "      \n",
              "  <style>\n",
              "    .colab-df-container {\n",
              "      display:flex;\n",
              "      flex-wrap:wrap;\n",
              "      gap: 12px;\n",
              "    }\n",
              "\n",
              "    .colab-df-convert {\n",
              "      background-color: #E8F0FE;\n",
              "      border: none;\n",
              "      border-radius: 50%;\n",
              "      cursor: pointer;\n",
              "      display: none;\n",
              "      fill: #1967D2;\n",
              "      height: 32px;\n",
              "      padding: 0 0 0 0;\n",
              "      width: 32px;\n",
              "    }\n",
              "\n",
              "    .colab-df-convert:hover {\n",
              "      background-color: #E2EBFA;\n",
              "      box-shadow: 0px 1px 2px rgba(60, 64, 67, 0.3), 0px 1px 3px 1px rgba(60, 64, 67, 0.15);\n",
              "      fill: #174EA6;\n",
              "    }\n",
              "\n",
              "    [theme=dark] .colab-df-convert {\n",
              "      background-color: #3B4455;\n",
              "      fill: #D2E3FC;\n",
              "    }\n",
              "\n",
              "    [theme=dark] .colab-df-convert:hover {\n",
              "      background-color: #434B5C;\n",
              "      box-shadow: 0px 1px 3px 1px rgba(0, 0, 0, 0.15);\n",
              "      filter: drop-shadow(0px 1px 2px rgba(0, 0, 0, 0.3));\n",
              "      fill: #FFFFFF;\n",
              "    }\n",
              "  </style>\n",
              "\n",
              "      <script>\n",
              "        const buttonEl =\n",
              "          document.querySelector('#df-783ce2e6-52be-493b-b9f5-50da162476f8 button.colab-df-convert');\n",
              "        buttonEl.style.display =\n",
              "          google.colab.kernel.accessAllowed ? 'block' : 'none';\n",
              "\n",
              "        async function convertToInteractive(key) {\n",
              "          const element = document.querySelector('#df-783ce2e6-52be-493b-b9f5-50da162476f8');\n",
              "          const dataTable =\n",
              "            await google.colab.kernel.invokeFunction('convertToInteractive',\n",
              "                                                     [key], {});\n",
              "          if (!dataTable) return;\n",
              "\n",
              "          const docLinkHtml = 'Like what you see? Visit the ' +\n",
              "            '<a target=\"_blank\" href=https://colab.research.google.com/notebooks/data_table.ipynb>data table notebook</a>'\n",
              "            + ' to learn more about interactive tables.';\n",
              "          element.innerHTML = '';\n",
              "          dataTable['output_type'] = 'display_data';\n",
              "          await google.colab.output.renderOutput(dataTable, element);\n",
              "          const docLink = document.createElement('div');\n",
              "          docLink.innerHTML = docLinkHtml;\n",
              "          element.appendChild(docLink);\n",
              "        }\n",
              "      </script>\n",
              "    </div>\n",
              "  </div>\n",
              "  "
            ],
            "text/plain": [
              "  client_id client_segment  avg_conso  avg_basket_size received_communication\n",
              "0  24321771              6      67.25           201.75                      0\n",
              "1  24321859              2      58.33           350.00                      0\n",
              "2  24321880              3      46.67           112.00                      0\n",
              "3  24321957              2      50.00           600.00                      0\n",
              "4  24321962              4      10.00           120.00                      0"
            ]
          },
          "metadata": {},
          "execution_count": 3
        }
      ]
    },
    {
      "cell_type": "code",
      "source": [
        "describer(client_table)"
      ],
      "metadata": {
        "id": "AWb7Q05e96Hr",
        "colab": {
          "base_uri": "https://localhost:8080/",
          "height": 206
        },
        "outputId": "504a0166-f215-4b8a-e816-2e67b4bbd1fc"
      },
      "execution_count": 4,
      "outputs": [
        {
          "output_type": "execute_result",
          "data": {
            "text/html": [
              "\n",
              "  <div id=\"df-05214837-387f-449b-b610-d938204bf558\">\n",
              "    <div class=\"colab-df-container\">\n",
              "      <div>\n",
              "<style scoped>\n",
              "    .dataframe tbody tr th:only-of-type {\n",
              "        vertical-align: middle;\n",
              "    }\n",
              "\n",
              "    .dataframe tbody tr th {\n",
              "        vertical-align: top;\n",
              "    }\n",
              "\n",
              "    .dataframe thead th {\n",
              "        text-align: right;\n",
              "    }\n",
              "</style>\n",
              "<table border=\"1\" class=\"dataframe\">\n",
              "  <thead>\n",
              "    <tr style=\"text-align: right;\">\n",
              "      <th></th>\n",
              "      <th>count</th>\n",
              "      <th>unique</th>\n",
              "      <th>top</th>\n",
              "      <th>freq</th>\n",
              "      <th>mean</th>\n",
              "      <th>std</th>\n",
              "      <th>min</th>\n",
              "      <th>25%</th>\n",
              "      <th>50%</th>\n",
              "      <th>75%</th>\n",
              "      <th>max</th>\n",
              "      <th>NullAny</th>\n",
              "      <th>NullSum</th>\n",
              "      <th>NullPct</th>\n",
              "      <th>dtypes</th>\n",
              "    </tr>\n",
              "  </thead>\n",
              "  <tbody>\n",
              "    <tr>\n",
              "      <th>client_id</th>\n",
              "      <td>35884</td>\n",
              "      <td>35884</td>\n",
              "      <td>18073108</td>\n",
              "      <td>1</td>\n",
              "      <td>NaN</td>\n",
              "      <td>NaN</td>\n",
              "      <td>NaN</td>\n",
              "      <td>NaN</td>\n",
              "      <td>NaN</td>\n",
              "      <td>NaN</td>\n",
              "      <td>NaN</td>\n",
              "      <td>False</td>\n",
              "      <td>0</td>\n",
              "      <td>0.0</td>\n",
              "      <td>category</td>\n",
              "    </tr>\n",
              "    <tr>\n",
              "      <th>client_segment</th>\n",
              "      <td>35884</td>\n",
              "      <td>6</td>\n",
              "      <td>3</td>\n",
              "      <td>8123</td>\n",
              "      <td>NaN</td>\n",
              "      <td>NaN</td>\n",
              "      <td>NaN</td>\n",
              "      <td>NaN</td>\n",
              "      <td>NaN</td>\n",
              "      <td>NaN</td>\n",
              "      <td>NaN</td>\n",
              "      <td>False</td>\n",
              "      <td>0</td>\n",
              "      <td>0.0</td>\n",
              "      <td>category</td>\n",
              "    </tr>\n",
              "    <tr>\n",
              "      <th>avg_conso</th>\n",
              "      <td>35884.0</td>\n",
              "      <td>1494</td>\n",
              "      <td>NaN</td>\n",
              "      <td>NaN</td>\n",
              "      <td>64.53</td>\n",
              "      <td>64.38</td>\n",
              "      <td>0.83</td>\n",
              "      <td>20.83</td>\n",
              "      <td>50.0</td>\n",
              "      <td>88.17</td>\n",
              "      <td>2433.33</td>\n",
              "      <td>False</td>\n",
              "      <td>0</td>\n",
              "      <td>0.0</td>\n",
              "      <td>float64</td>\n",
              "    </tr>\n",
              "    <tr>\n",
              "      <th>avg_basket_size</th>\n",
              "      <td>35884.0</td>\n",
              "      <td>3974</td>\n",
              "      <td>NaN</td>\n",
              "      <td>NaN</td>\n",
              "      <td>181.22</td>\n",
              "      <td>129.6</td>\n",
              "      <td>10.0</td>\n",
              "      <td>100.0</td>\n",
              "      <td>160.0</td>\n",
              "      <td>225.0</td>\n",
              "      <td>3400.2</td>\n",
              "      <td>False</td>\n",
              "      <td>0</td>\n",
              "      <td>0.0</td>\n",
              "      <td>float64</td>\n",
              "    </tr>\n",
              "    <tr>\n",
              "      <th>received_communication</th>\n",
              "      <td>35884</td>\n",
              "      <td>2</td>\n",
              "      <td>1</td>\n",
              "      <td>18229</td>\n",
              "      <td>NaN</td>\n",
              "      <td>NaN</td>\n",
              "      <td>NaN</td>\n",
              "      <td>NaN</td>\n",
              "      <td>NaN</td>\n",
              "      <td>NaN</td>\n",
              "      <td>NaN</td>\n",
              "      <td>False</td>\n",
              "      <td>0</td>\n",
              "      <td>0.0</td>\n",
              "      <td>category</td>\n",
              "    </tr>\n",
              "  </tbody>\n",
              "</table>\n",
              "</div>\n",
              "      <button class=\"colab-df-convert\" onclick=\"convertToInteractive('df-05214837-387f-449b-b610-d938204bf558')\"\n",
              "              title=\"Convert this dataframe to an interactive table.\"\n",
              "              style=\"display:none;\">\n",
              "        \n",
              "  <svg xmlns=\"http://www.w3.org/2000/svg\" height=\"24px\"viewBox=\"0 0 24 24\"\n",
              "       width=\"24px\">\n",
              "    <path d=\"M0 0h24v24H0V0z\" fill=\"none\"/>\n",
              "    <path d=\"M18.56 5.44l.94 2.06.94-2.06 2.06-.94-2.06-.94-.94-2.06-.94 2.06-2.06.94zm-11 1L8.5 8.5l.94-2.06 2.06-.94-2.06-.94L8.5 2.5l-.94 2.06-2.06.94zm10 10l.94 2.06.94-2.06 2.06-.94-2.06-.94-.94-2.06-.94 2.06-2.06.94z\"/><path d=\"M17.41 7.96l-1.37-1.37c-.4-.4-.92-.59-1.43-.59-.52 0-1.04.2-1.43.59L10.3 9.45l-7.72 7.72c-.78.78-.78 2.05 0 2.83L4 21.41c.39.39.9.59 1.41.59.51 0 1.02-.2 1.41-.59l7.78-7.78 2.81-2.81c.8-.78.8-2.07 0-2.86zM5.41 20L4 18.59l7.72-7.72 1.47 1.35L5.41 20z\"/>\n",
              "  </svg>\n",
              "      </button>\n",
              "      \n",
              "  <style>\n",
              "    .colab-df-container {\n",
              "      display:flex;\n",
              "      flex-wrap:wrap;\n",
              "      gap: 12px;\n",
              "    }\n",
              "\n",
              "    .colab-df-convert {\n",
              "      background-color: #E8F0FE;\n",
              "      border: none;\n",
              "      border-radius: 50%;\n",
              "      cursor: pointer;\n",
              "      display: none;\n",
              "      fill: #1967D2;\n",
              "      height: 32px;\n",
              "      padding: 0 0 0 0;\n",
              "      width: 32px;\n",
              "    }\n",
              "\n",
              "    .colab-df-convert:hover {\n",
              "      background-color: #E2EBFA;\n",
              "      box-shadow: 0px 1px 2px rgba(60, 64, 67, 0.3), 0px 1px 3px 1px rgba(60, 64, 67, 0.15);\n",
              "      fill: #174EA6;\n",
              "    }\n",
              "\n",
              "    [theme=dark] .colab-df-convert {\n",
              "      background-color: #3B4455;\n",
              "      fill: #D2E3FC;\n",
              "    }\n",
              "\n",
              "    [theme=dark] .colab-df-convert:hover {\n",
              "      background-color: #434B5C;\n",
              "      box-shadow: 0px 1px 3px 1px rgba(0, 0, 0, 0.15);\n",
              "      filter: drop-shadow(0px 1px 2px rgba(0, 0, 0, 0.3));\n",
              "      fill: #FFFFFF;\n",
              "    }\n",
              "  </style>\n",
              "\n",
              "      <script>\n",
              "        const buttonEl =\n",
              "          document.querySelector('#df-05214837-387f-449b-b610-d938204bf558 button.colab-df-convert');\n",
              "        buttonEl.style.display =\n",
              "          google.colab.kernel.accessAllowed ? 'block' : 'none';\n",
              "\n",
              "        async function convertToInteractive(key) {\n",
              "          const element = document.querySelector('#df-05214837-387f-449b-b610-d938204bf558');\n",
              "          const dataTable =\n",
              "            await google.colab.kernel.invokeFunction('convertToInteractive',\n",
              "                                                     [key], {});\n",
              "          if (!dataTable) return;\n",
              "\n",
              "          const docLinkHtml = 'Like what you see? Visit the ' +\n",
              "            '<a target=\"_blank\" href=https://colab.research.google.com/notebooks/data_table.ipynb>data table notebook</a>'\n",
              "            + ' to learn more about interactive tables.';\n",
              "          element.innerHTML = '';\n",
              "          dataTable['output_type'] = 'display_data';\n",
              "          await google.colab.output.renderOutput(dataTable, element);\n",
              "          const docLink = document.createElement('div');\n",
              "          docLink.innerHTML = docLinkHtml;\n",
              "          element.appendChild(docLink);\n",
              "        }\n",
              "      </script>\n",
              "    </div>\n",
              "  </div>\n",
              "  "
            ],
            "text/plain": [
              "                          count  unique       top  ... NullSum NullPct    dtypes\n",
              "client_id                 35884   35884  18073108  ...       0     0.0  category\n",
              "client_segment            35884       6         3  ...       0     0.0  category\n",
              "avg_conso               35884.0    1494       NaN  ...       0     0.0   float64\n",
              "avg_basket_size         35884.0    3974       NaN  ...       0     0.0   float64\n",
              "received_communication    35884       2         1  ...       0     0.0  category\n",
              "\n",
              "[5 rows x 15 columns]"
            ]
          },
          "metadata": {},
          "execution_count": 4
        }
      ]
    },
    {
      "cell_type": "markdown",
      "metadata": {
        "_cell_guid": "ebbe5646-3bb8-41fa-a723-ceca20d23305",
        "_uuid": "7ac7f800756405f801d09d290624c0767a3b5ef6",
        "id": "6pmJ8_6_9TNT"
      },
      "source": [
        "I check for duplicate entries:"
      ]
    },
    {
      "cell_type": "code",
      "source": [
        "print('Duplicate entries: {}'.format(client_table.duplicated().sum()))"
      ],
      "metadata": {
        "colab": {
          "base_uri": "https://localhost:8080/"
        },
        "id": "NYqzSC_U-e86",
        "outputId": "dd43af53-ba49-4a9e-9190-be1950137ab7"
      },
      "execution_count": 5,
      "outputs": [
        {
          "output_type": "stream",
          "name": "stdout",
          "text": [
            "Duplicate entries: 0\n"
          ]
        }
      ]
    },
    {
      "cell_type": "code",
      "source": [
        "#Distribution of the  variables\n",
        "\n",
        "fig, axes = plt.subplots(ncols=2, nrows=2, figsize=(12, 12))\n",
        "axes = axes.flat\n",
        "\n",
        "for i, colum in enumerate(tqdm_notebook(['client_segment', 'avg_conso', 'avg_basket_size', 'received_communication'])):\n",
        "        datos = client_table[colum]\n",
        "        clr = (list(plt.rcParams['axes.prop_cycle'])*3)[i][\"color\"]\n",
        "        custom_plots(dat=datos, \n",
        "                     color=clr, \n",
        "                     title=\"\", \n",
        "                     ax=axes[i])\n",
        "plt.subplots_adjust(top=0.965)\n",
        "plt.show()"
      ],
      "metadata": {
        "colab": {
          "base_uri": "https://localhost:8080/",
          "height": 843,
          "referenced_widgets": [
            "78db0eb50d364011ab0d4458cf2f0a8a",
            "4a2901e3b1c1410eb60c7f2b9853edc8",
            "f27f4f3d17cf4a8c80a1481b78e35964",
            "3d6862ed3dbd4387ae46e52ed69a9480",
            "97d6ac76d1be4c3387760302b5e6c1e1",
            "90a785b3ae1347deb1540cb5fe67728a",
            "ee59b6727ee34549b7061aa4fc9f8c12",
            "59c83d79246f4ed18dad16b91313657e",
            "28ba8e4ca22c45bd98d96430c8f92302",
            "06f0a33340124fc49cf1e9aeec272d0a",
            "5d6f59a517284c1592cfadfa8810a5ab"
          ]
        },
        "id": "nPFTPJemanJI",
        "outputId": "f52349d9-e746-4bbb-b3cf-f839b4cf40d6"
      },
      "execution_count": 6,
      "outputs": [
        {
          "output_type": "display_data",
          "data": {
            "application/vnd.jupyter.widget-view+json": {
              "model_id": "78db0eb50d364011ab0d4458cf2f0a8a",
              "version_minor": 0,
              "version_major": 2
            },
            "text/plain": [
              "  0%|          | 0/4 [00:00<?, ?it/s]"
            ]
          },
          "metadata": {}
        },
        {
          "output_type": "display_data",
          "data": {
            "image/png": "[encoded data removed]",
            "text/plain": [
              "<Figure size 864x864 with 4 Axes>"
            ]
          },
          "metadata": {
            "needs_background": "light"
          }
        }
      ]
    },
    {
      "cell_type": "code",
      "source": [
        "#joyplot\n",
        "\n",
        "for col in ['avg_conso', 'avg_basket_size']:\n",
        "    display(client_table.groupby(by='client_segment').describe().round(2)[[col]])\n",
        "    plot_joy(client_table, col, 'client_segment')\n",
        "    plt.show()\n",
        "    \n",
        "for col in ['avg_conso', 'avg_basket_size']:   \n",
        "    display(client_table.groupby(by='received_communication').describe().round(2)[[col]])\n",
        "    plot_joy(client_table, col, 'received_communication')\n",
        "    plt.show()"
      ],
      "metadata": {
        "colab": {
          "base_uri": "https://localhost:8080/",
          "height": 1000
        },
        "id": "abvA6unwi0kl",
        "outputId": "a82564ed-5cad-47e3-d21b-a5125f72df28"
      },
      "execution_count": 7,
      "outputs": [
        {
          "output_type": "display_data",
          "data": {
            "text/html": [
              "\n",
              "  <div id=\"df-bd67367c-f6ae-4280-a138-115fa9e4e715\">\n",
              "    <div class=\"colab-df-container\">\n",
              "      <div>\n",
              "<style scoped>\n",
              "    .dataframe tbody tr th:only-of-type {\n",
              "        vertical-align: middle;\n",
              "    }\n",
              "\n",
              "    .dataframe tbody tr th {\n",
              "        vertical-align: top;\n",
              "    }\n",
              "\n",
              "    .dataframe thead tr th {\n",
              "        text-align: left;\n",
              "    }\n",
              "\n",
              "    .dataframe thead tr:last-of-type th {\n",
              "        text-align: right;\n",
              "    }\n",
              "</style>\n",
              "<table border=\"1\" class=\"dataframe\">\n",
              "  <thead>\n",
              "    <tr>\n",
              "      <th></th>\n",
              "      <th colspan=\"8\" halign=\"left\">avg_conso</th>\n",
              "    </tr>\n",
              "    <tr>\n",
              "      <th></th>\n",
              "      <th>count</th>\n",
              "      <th>mean</th>\n",
              "      <th>std</th>\n",
              "      <th>min</th>\n",
              "      <th>25%</th>\n",
              "      <th>50%</th>\n",
              "      <th>75%</th>\n",
              "      <th>max</th>\n",
              "    </tr>\n",
              "    <tr>\n",
              "      <th>client_segment</th>\n",
              "      <th></th>\n",
              "      <th></th>\n",
              "      <th></th>\n",
              "      <th></th>\n",
              "      <th></th>\n",
              "      <th></th>\n",
              "      <th></th>\n",
              "      <th></th>\n",
              "    </tr>\n",
              "  </thead>\n",
              "  <tbody>\n",
              "    <tr>\n",
              "      <th>1</th>\n",
              "      <td>6505.0</td>\n",
              "      <td>132.28</td>\n",
              "      <td>59.09</td>\n",
              "      <td>37.50</td>\n",
              "      <td>94.17</td>\n",
              "      <td>117.50</td>\n",
              "      <td>155.83</td>\n",
              "      <td>862.58</td>\n",
              "    </tr>\n",
              "    <tr>\n",
              "      <th>2</th>\n",
              "      <td>6760.0</td>\n",
              "      <td>87.36</td>\n",
              "      <td>41.75</td>\n",
              "      <td>16.67</td>\n",
              "      <td>66.67</td>\n",
              "      <td>79.17</td>\n",
              "      <td>100.00</td>\n",
              "      <td>1416.75</td>\n",
              "    </tr>\n",
              "    <tr>\n",
              "      <th>3</th>\n",
              "      <td>8123.0</td>\n",
              "      <td>43.33</td>\n",
              "      <td>14.11</td>\n",
              "      <td>10.00</td>\n",
              "      <td>33.33</td>\n",
              "      <td>41.67</td>\n",
              "      <td>50.83</td>\n",
              "      <td>151.67</td>\n",
              "    </tr>\n",
              "    <tr>\n",
              "      <th>4</th>\n",
              "      <td>7927.0</td>\n",
              "      <td>20.87</td>\n",
              "      <td>11.24</td>\n",
              "      <td>0.83</td>\n",
              "      <td>12.58</td>\n",
              "      <td>19.17</td>\n",
              "      <td>25.83</td>\n",
              "      <td>166.75</td>\n",
              "    </tr>\n",
              "    <tr>\n",
              "      <th>5</th>\n",
              "      <td>3429.0</td>\n",
              "      <td>6.60</td>\n",
              "      <td>3.48</td>\n",
              "      <td>0.83</td>\n",
              "      <td>4.17</td>\n",
              "      <td>6.42</td>\n",
              "      <td>8.33</td>\n",
              "      <td>20.83</td>\n",
              "    </tr>\n",
              "    <tr>\n",
              "      <th>6</th>\n",
              "      <td>3140.0</td>\n",
              "      <td>103.40</td>\n",
              "      <td>117.31</td>\n",
              "      <td>0.83</td>\n",
              "      <td>33.33</td>\n",
              "      <td>75.00</td>\n",
              "      <td>137.50</td>\n",
              "      <td>2433.33</td>\n",
              "    </tr>\n",
              "  </tbody>\n",
              "</table>\n",
              "</div>\n",
              "      <button class=\"colab-df-convert\" onclick=\"convertToInteractive('df-bd67367c-f6ae-4280-a138-115fa9e4e715')\"\n",
              "              title=\"Convert this dataframe to an interactive table.\"\n",
              "              style=\"display:none;\">\n",
              "        \n",
              "  <svg xmlns=\"http://www.w3.org/2000/svg\" height=\"24px\"viewBox=\"0 0 24 24\"\n",
              "       width=\"24px\">\n",
              "    <path d=\"M0 0h24v24H0V0z\" fill=\"none\"/>\n",
              "    <path d=\"M18.56 5.44l.94 2.06.94-2.06 2.06-.94-2.06-.94-.94-2.06-.94 2.06-2.06.94zm-11 1L8.5 8.5l.94-2.06 2.06-.94-2.06-.94L8.5 2.5l-.94 2.06-2.06.94zm10 10l.94 2.06.94-2.06 2.06-.94-2.06-.94-.94-2.06-.94 2.06-2.06.94z\"/><path d=\"M17.41 7.96l-1.37-1.37c-.4-.4-.92-.59-1.43-.59-.52 0-1.04.2-1.43.59L10.3 9.45l-7.72 7.72c-.78.78-.78 2.05 0 2.83L4 21.41c.39.39.9.59 1.41.59.51 0 1.02-.2 1.41-.59l7.78-7.78 2.81-2.81c.8-.78.8-2.07 0-2.86zM5.41 20L4 18.59l7.72-7.72 1.47 1.35L5.41 20z\"/>\n",
              "  </svg>\n",
              "      </button>\n",
              "      \n",
              "  <style>\n",
              "    .colab-df-container {\n",
              "      display:flex;\n",
              "      flex-wrap:wrap;\n",
              "      gap: 12px;\n",
              "    }\n",
              "\n",
              "    .colab-df-convert {\n",
              "      background-color: #E8F0FE;\n",
              "      border: none;\n",
              "      border-radius: 50%;\n",
              "      cursor: pointer;\n",
              "      display: none;\n",
              "      fill: #1967D2;\n",
              "      height: 32px;\n",
              "      padding: 0 0 0 0;\n",
              "      width: 32px;\n",
              "    }\n",
              "\n",
              "    .colab-df-convert:hover {\n",
              "      background-color: #E2EBFA;\n",
              "      box-shadow: 0px 1px 2px rgba(60, 64, 67, 0.3), 0px 1px 3px 1px rgba(60, 64, 67, 0.15);\n",
              "      fill: #174EA6;\n",
              "    }\n",
              "\n",
              "    [theme=dark] .colab-df-convert {\n",
              "      background-color: #3B4455;\n",
              "      fill: #D2E3FC;\n",
              "    }\n",
              "\n",
              "    [theme=dark] .colab-df-convert:hover {\n",
              "      background-color: #434B5C;\n",
              "      box-shadow: 0px 1px 3px 1px rgba(0, 0, 0, 0.15);\n",
              "      filter: drop-shadow(0px 1px 2px rgba(0, 0, 0, 0.3));\n",
              "      fill: #FFFFFF;\n",
              "    }\n",
              "  </style>\n",
              "\n",
              "      <script>\n",
              "        const buttonEl =\n",
              "          document.querySelector('#df-bd67367c-f6ae-4280-a138-115fa9e4e715 button.colab-df-convert');\n",
              "        buttonEl.style.display =\n",
              "          google.colab.kernel.accessAllowed ? 'block' : 'none';\n",
              "\n",
              "        async function convertToInteractive(key) {\n",
              "          const element = document.querySelector('#df-bd67367c-f6ae-4280-a138-115fa9e4e715');\n",
              "          const dataTable =\n",
              "            await google.colab.kernel.invokeFunction('convertToInteractive',\n",
              "                                                     [key], {});\n",
              "          if (!dataTable) return;\n",
              "\n",
              "          const docLinkHtml = 'Like what you see? Visit the ' +\n",
              "            '<a target=\"_blank\" href=https://colab.research.google.com/notebooks/data_table.ipynb>data table notebook</a>'\n",
              "            + ' to learn more about interactive tables.';\n",
              "          element.innerHTML = '';\n",
              "          dataTable['output_type'] = 'display_data';\n",
              "          await google.colab.output.renderOutput(dataTable, element);\n",
              "          const docLink = document.createElement('div');\n",
              "          docLink.innerHTML = docLinkHtml;\n",
              "          element.appendChild(docLink);\n",
              "        }\n",
              "      </script>\n",
              "    </div>\n",
              "  </div>\n",
              "  "
            ],
            "text/plain": [
              "               avg_conso                                                       \n",
              "                   count    mean     std    min    25%     50%     75%      max\n",
              "client_segment                                                                 \n",
              "1                 6505.0  132.28   59.09  37.50  94.17  117.50  155.83   862.58\n",
              "2                 6760.0   87.36   41.75  16.67  66.67   79.17  100.00  1416.75\n",
              "3                 8123.0   43.33   14.11  10.00  33.33   41.67   50.83   151.67\n",
              "4                 7927.0   20.87   11.24   0.83  12.58   19.17   25.83   166.75\n",
              "5                 3429.0    6.60    3.48   0.83   4.17    6.42    8.33    20.83\n",
              "6                 3140.0  103.40  117.31   0.83  33.33   75.00  137.50  2433.33"
            ]
          },
          "metadata": {}
        },
        {
          "output_type": "display_data",
          "data": {
            "image/png": "[encoded data removed]",
            "text/plain": [
              "<Figure size 1080x432 with 6 Axes>"
            ]
          },
          "metadata": {}
        },
        {
          "output_type": "display_data",
          "data": {
            "text/html": [
              "\n",
              "  <div id=\"df-1885b2ed-3867-4b51-9abc-5973304a105a\">\n",
              "    <div class=\"colab-df-container\">\n",
              "      <div>\n",
              "<style scoped>\n",
              "    .dataframe tbody tr th:only-of-type {\n",
              "        vertical-align: middle;\n",
              "    }\n",
              "\n",
              "    .dataframe tbody tr th {\n",
              "        vertical-align: top;\n",
              "    }\n",
              "\n",
              "    .dataframe thead tr th {\n",
              "        text-align: left;\n",
              "    }\n",
              "\n",
              "    .dataframe thead tr:last-of-type th {\n",
              "        text-align: right;\n",
              "    }\n",
              "</style>\n",
              "<table border=\"1\" class=\"dataframe\">\n",
              "  <thead>\n",
              "    <tr>\n",
              "      <th></th>\n",
              "      <th colspan=\"8\" halign=\"left\">avg_basket_size</th>\n",
              "    </tr>\n",
              "    <tr>\n",
              "      <th></th>\n",
              "      <th>count</th>\n",
              "      <th>mean</th>\n",
              "      <th>std</th>\n",
              "      <th>min</th>\n",
              "      <th>25%</th>\n",
              "      <th>50%</th>\n",
              "      <th>75%</th>\n",
              "      <th>max</th>\n",
              "    </tr>\n",
              "    <tr>\n",
              "      <th>client_segment</th>\n",
              "      <th></th>\n",
              "      <th></th>\n",
              "      <th></th>\n",
              "      <th></th>\n",
              "      <th></th>\n",
              "      <th></th>\n",
              "      <th></th>\n",
              "      <th></th>\n",
              "    </tr>\n",
              "  </thead>\n",
              "  <tbody>\n",
              "    <tr>\n",
              "      <th>1</th>\n",
              "      <td>6505.0</td>\n",
              "      <td>190.34</td>\n",
              "      <td>84.78</td>\n",
              "      <td>19.55</td>\n",
              "      <td>136.67</td>\n",
              "      <td>185.71</td>\n",
              "      <td>220.00</td>\n",
              "      <td>1400.00</td>\n",
              "    </tr>\n",
              "    <tr>\n",
              "      <th>2</th>\n",
              "      <td>6760.0</td>\n",
              "      <td>298.60</td>\n",
              "      <td>142.27</td>\n",
              "      <td>138.00</td>\n",
              "      <td>203.33</td>\n",
              "      <td>252.33</td>\n",
              "      <td>343.33</td>\n",
              "      <td>3400.20</td>\n",
              "    </tr>\n",
              "    <tr>\n",
              "      <th>3</th>\n",
              "      <td>8123.0</td>\n",
              "      <td>163.60</td>\n",
              "      <td>71.46</td>\n",
              "      <td>23.08</td>\n",
              "      <td>112.50</td>\n",
              "      <td>152.00</td>\n",
              "      <td>200.00</td>\n",
              "      <td>750.00</td>\n",
              "    </tr>\n",
              "    <tr>\n",
              "      <th>4</th>\n",
              "      <td>7927.0</td>\n",
              "      <td>105.48</td>\n",
              "      <td>54.51</td>\n",
              "      <td>10.00</td>\n",
              "      <td>66.67</td>\n",
              "      <td>100.00</td>\n",
              "      <td>125.00</td>\n",
              "      <td>500.00</td>\n",
              "    </tr>\n",
              "    <tr>\n",
              "      <th>5</th>\n",
              "      <td>3429.0</td>\n",
              "      <td>56.87</td>\n",
              "      <td>31.19</td>\n",
              "      <td>10.00</td>\n",
              "      <td>35.00</td>\n",
              "      <td>50.00</td>\n",
              "      <td>75.00</td>\n",
              "      <td>200.00</td>\n",
              "    </tr>\n",
              "    <tr>\n",
              "      <th>6</th>\n",
              "      <td>3140.0</td>\n",
              "      <td>282.21</td>\n",
              "      <td>198.83</td>\n",
              "      <td>10.00</td>\n",
              "      <td>150.00</td>\n",
              "      <td>233.33</td>\n",
              "      <td>360.00</td>\n",
              "      <td>2654.55</td>\n",
              "    </tr>\n",
              "  </tbody>\n",
              "</table>\n",
              "</div>\n",
              "      <button class=\"colab-df-convert\" onclick=\"convertToInteractive('df-1885b2ed-3867-4b51-9abc-5973304a105a')\"\n",
              "              title=\"Convert this dataframe to an interactive table.\"\n",
              "              style=\"display:none;\">\n",
              "        \n",
              "  <svg xmlns=\"http://www.w3.org/2000/svg\" height=\"24px\"viewBox=\"0 0 24 24\"\n",
              "       width=\"24px\">\n",
              "    <path d=\"M0 0h24v24H0V0z\" fill=\"none\"/>\n",
              "    <path d=\"M18.56 5.44l.94 2.06.94-2.06 2.06-.94-2.06-.94-.94-2.06-.94 2.06-2.06.94zm-11 1L8.5 8.5l.94-2.06 2.06-.94-2.06-.94L8.5 2.5l-.94 2.06-2.06.94zm10 10l.94 2.06.94-2.06 2.06-.94-2.06-.94-.94-2.06-.94 2.06-2.06.94z\"/><path d=\"M17.41 7.96l-1.37-1.37c-.4-.4-.92-.59-1.43-.59-.52 0-1.04.2-1.43.59L10.3 9.45l-7.72 7.72c-.78.78-.78 2.05 0 2.83L4 21.41c.39.39.9.59 1.41.59.51 0 1.02-.2 1.41-.59l7.78-7.78 2.81-2.81c.8-.78.8-2.07 0-2.86zM5.41 20L4 18.59l7.72-7.72 1.47 1.35L5.41 20z\"/>\n",
              "  </svg>\n",
              "      </button>\n",
              "      \n",
              "  <style>\n",
              "    .colab-df-container {\n",
              "      display:flex;\n",
              "      flex-wrap:wrap;\n",
              "      gap: 12px;\n",
              "    }\n",
              "\n",
              "    .colab-df-convert {\n",
              "      background-color: #E8F0FE;\n",
              "      border: none;\n",
              "      border-radius: 50%;\n",
              "      cursor: pointer;\n",
              "      display: none;\n",
              "      fill: #1967D2;\n",
              "      height: 32px;\n",
              "      padding: 0 0 0 0;\n",
              "      width: 32px;\n",
              "    }\n",
              "\n",
              "    .colab-df-convert:hover {\n",
              "      background-color: #E2EBFA;\n",
              "      box-shadow: 0px 1px 2px rgba(60, 64, 67, 0.3), 0px 1px 3px 1px rgba(60, 64, 67, 0.15);\n",
              "      fill: #174EA6;\n",
              "    }\n",
              "\n",
              "    [theme=dark] .colab-df-convert {\n",
              "      background-color: #3B4455;\n",
              "      fill: #D2E3FC;\n",
              "    }\n",
              "\n",
              "    [theme=dark] .colab-df-convert:hover {\n",
              "      background-color: #434B5C;\n",
              "      box-shadow: 0px 1px 3px 1px rgba(0, 0, 0, 0.15);\n",
              "      filter: drop-shadow(0px 1px 2px rgba(0, 0, 0, 0.3));\n",
              "      fill: #FFFFFF;\n",
              "    }\n",
              "  </style>\n",
              "\n",
              "      <script>\n",
              "        const buttonEl =\n",
              "          document.querySelector('#df-1885b2ed-3867-4b51-9abc-5973304a105a button.colab-df-convert');\n",
              "        buttonEl.style.display =\n",
              "          google.colab.kernel.accessAllowed ? 'block' : 'none';\n",
              "\n",
              "        async function convertToInteractive(key) {\n",
              "          const element = document.querySelector('#df-1885b2ed-3867-4b51-9abc-5973304a105a');\n",
              "          const dataTable =\n",
              "            await google.colab.kernel.invokeFunction('convertToInteractive',\n",
              "                                                     [key], {});\n",
              "          if (!dataTable) return;\n",
              "\n",
              "          const docLinkHtml = 'Like what you see? Visit the ' +\n",
              "            '<a target=\"_blank\" href=https://colab.research.google.com/notebooks/data_table.ipynb>data table notebook</a>'\n",
              "            + ' to learn more about interactive tables.';\n",
              "          element.innerHTML = '';\n",
              "          dataTable['output_type'] = 'display_data';\n",
              "          await google.colab.output.renderOutput(dataTable, element);\n",
              "          const docLink = document.createElement('div');\n",
              "          docLink.innerHTML = docLinkHtml;\n",
              "          element.appendChild(docLink);\n",
              "        }\n",
              "      </script>\n",
              "    </div>\n",
              "  </div>\n",
              "  "
            ],
            "text/plain": [
              "               avg_basket_size                  ...                         \n",
              "                         count    mean     std  ...     50%     75%      max\n",
              "client_segment                                  ...                         \n",
              "1                       6505.0  190.34   84.78  ...  185.71  220.00  1400.00\n",
              "2                       6760.0  298.60  142.27  ...  252.33  343.33  3400.20\n",
              "3                       8123.0  163.60   71.46  ...  152.00  200.00   750.00\n",
              "4                       7927.0  105.48   54.51  ...  100.00  125.00   500.00\n",
              "5                       3429.0   56.87   31.19  ...   50.00   75.00   200.00\n",
              "6                       3140.0  282.21  198.83  ...  233.33  360.00  2654.55\n",
              "\n",
              "[6 rows x 8 columns]"
            ]
          },
          "metadata": {}
        },
        {
          "output_type": "display_data",
          "data": {
            "image/png": "[encoded data removed]",
            "text/plain": [
              "<Figure size 1080x432 with 6 Axes>"
            ]
          },
          "metadata": {}
        },
        {
          "output_type": "display_data",
          "data": {
            "text/html": [
              "\n",
              "  <div id=\"df-0cef7896-1adc-4310-a6be-e77f3dd8e7ef\">\n",
              "    <div class=\"colab-df-container\">\n",
              "      <div>\n",
              "<style scoped>\n",
              "    .dataframe tbody tr th:only-of-type {\n",
              "        vertical-align: middle;\n",
              "    }\n",
              "\n",
              "    .dataframe tbody tr th {\n",
              "        vertical-align: top;\n",
              "    }\n",
              "\n",
              "    .dataframe thead tr th {\n",
              "        text-align: left;\n",
              "    }\n",
              "\n",
              "    .dataframe thead tr:last-of-type th {\n",
              "        text-align: right;\n",
              "    }\n",
              "</style>\n",
              "<table border=\"1\" class=\"dataframe\">\n",
              "  <thead>\n",
              "    <tr>\n",
              "      <th></th>\n",
              "      <th colspan=\"8\" halign=\"left\">avg_conso</th>\n",
              "    </tr>\n",
              "    <tr>\n",
              "      <th></th>\n",
              "      <th>count</th>\n",
              "      <th>mean</th>\n",
              "      <th>std</th>\n",
              "      <th>min</th>\n",
              "      <th>25%</th>\n",
              "      <th>50%</th>\n",
              "      <th>75%</th>\n",
              "      <th>max</th>\n",
              "    </tr>\n",
              "    <tr>\n",
              "      <th>received_communication</th>\n",
              "      <th></th>\n",
              "      <th></th>\n",
              "      <th></th>\n",
              "      <th></th>\n",
              "      <th></th>\n",
              "      <th></th>\n",
              "      <th></th>\n",
              "      <th></th>\n",
              "    </tr>\n",
              "  </thead>\n",
              "  <tbody>\n",
              "    <tr>\n",
              "      <th>0</th>\n",
              "      <td>17655.0</td>\n",
              "      <td>53.08</td>\n",
              "      <td>55.64</td>\n",
              "      <td>0.83</td>\n",
              "      <td>15.00</td>\n",
              "      <td>34.17</td>\n",
              "      <td>75.0</td>\n",
              "      <td>1116.67</td>\n",
              "    </tr>\n",
              "    <tr>\n",
              "      <th>1</th>\n",
              "      <td>18229.0</td>\n",
              "      <td>75.63</td>\n",
              "      <td>70.08</td>\n",
              "      <td>0.83</td>\n",
              "      <td>33.33</td>\n",
              "      <td>59.17</td>\n",
              "      <td>100.0</td>\n",
              "      <td>2433.33</td>\n",
              "    </tr>\n",
              "  </tbody>\n",
              "</table>\n",
              "</div>\n",
              "      <button class=\"colab-df-convert\" onclick=\"convertToInteractive('df-0cef7896-1adc-4310-a6be-e77f3dd8e7ef')\"\n",
              "              title=\"Convert this dataframe to an interactive table.\"\n",
              "              style=\"display:none;\">\n",
              "        \n",
              "  <svg xmlns=\"http://www.w3.org/2000/svg\" height=\"24px\"viewBox=\"0 0 24 24\"\n",
              "       width=\"24px\">\n",
              "    <path d=\"M0 0h24v24H0V0z\" fill=\"none\"/>\n",
              "    <path d=\"M18.56 5.44l.94 2.06.94-2.06 2.06-.94-2.06-.94-.94-2.06-.94 2.06-2.06.94zm-11 1L8.5 8.5l.94-2.06 2.06-.94-2.06-.94L8.5 2.5l-.94 2.06-2.06.94zm10 10l.94 2.06.94-2.06 2.06-.94-2.06-.94-.94-2.06-.94 2.06-2.06.94z\"/><path d=\"M17.41 7.96l-1.37-1.37c-.4-.4-.92-.59-1.43-.59-.52 0-1.04.2-1.43.59L10.3 9.45l-7.72 7.72c-.78.78-.78 2.05 0 2.83L4 21.41c.39.39.9.59 1.41.59.51 0 1.02-.2 1.41-.59l7.78-7.78 2.81-2.81c.8-.78.8-2.07 0-2.86zM5.41 20L4 18.59l7.72-7.72 1.47 1.35L5.41 20z\"/>\n",
              "  </svg>\n",
              "      </button>\n",
              "      \n",
              "  <style>\n",
              "    .colab-df-container {\n",
              "      display:flex;\n",
              "      flex-wrap:wrap;\n",
              "      gap: 12px;\n",
              "    }\n",
              "\n",
              "    .colab-df-convert {\n",
              "      background-color: #E8F0FE;\n",
              "      border: none;\n",
              "      border-radius: 50%;\n",
              "      cursor: pointer;\n",
              "      display: none;\n",
              "      fill: #1967D2;\n",
              "      height: 32px;\n",
              "      padding: 0 0 0 0;\n",
              "      width: 32px;\n",
              "    }\n",
              "\n",
              "    .colab-df-convert:hover {\n",
              "      background-color: #E2EBFA;\n",
              "      box-shadow: 0px 1px 2px rgba(60, 64, 67, 0.3), 0px 1px 3px 1px rgba(60, 64, 67, 0.15);\n",
              "      fill: #174EA6;\n",
              "    }\n",
              "\n",
              "    [theme=dark] .colab-df-convert {\n",
              "      background-color: #3B4455;\n",
              "      fill: #D2E3FC;\n",
              "    }\n",
              "\n",
              "    [theme=dark] .colab-df-convert:hover {\n",
              "      background-color: #434B5C;\n",
              "      box-shadow: 0px 1px 3px 1px rgba(0, 0, 0, 0.15);\n",
              "      filter: drop-shadow(0px 1px 2px rgba(0, 0, 0, 0.3));\n",
              "      fill: #FFFFFF;\n",
              "    }\n",
              "  </style>\n",
              "\n",
              "      <script>\n",
              "        const buttonEl =\n",
              "          document.querySelector('#df-0cef7896-1adc-4310-a6be-e77f3dd8e7ef button.colab-df-convert');\n",
              "        buttonEl.style.display =\n",
              "          google.colab.kernel.accessAllowed ? 'block' : 'none';\n",
              "\n",
              "        async function convertToInteractive(key) {\n",
              "          const element = document.querySelector('#df-0cef7896-1adc-4310-a6be-e77f3dd8e7ef');\n",
              "          const dataTable =\n",
              "            await google.colab.kernel.invokeFunction('convertToInteractive',\n",
              "                                                     [key], {});\n",
              "          if (!dataTable) return;\n",
              "\n",
              "          const docLinkHtml = 'Like what you see? Visit the ' +\n",
              "            '<a target=\"_blank\" href=https://colab.research.google.com/notebooks/data_table.ipynb>data table notebook</a>'\n",
              "            + ' to learn more about interactive tables.';\n",
              "          element.innerHTML = '';\n",
              "          dataTable['output_type'] = 'display_data';\n",
              "          await google.colab.output.renderOutput(dataTable, element);\n",
              "          const docLink = document.createElement('div');\n",
              "          docLink.innerHTML = docLinkHtml;\n",
              "          element.appendChild(docLink);\n",
              "        }\n",
              "      </script>\n",
              "    </div>\n",
              "  </div>\n",
              "  "
            ],
            "text/plain": [
              "                       avg_conso                ...                       \n",
              "                           count   mean    std  ...    50%    75%      max\n",
              "received_communication                          ...                       \n",
              "0                        17655.0  53.08  55.64  ...  34.17   75.0  1116.67\n",
              "1                        18229.0  75.63  70.08  ...  59.17  100.0  2433.33\n",
              "\n",
              "[2 rows x 8 columns]"
            ]
          },
          "metadata": {}
        },
        {
          "output_type": "display_data",
          "data": {
            "image/png": "[encoded data removed]",
            "text/plain": [
              "<Figure size 1080x144 with 2 Axes>"
            ]
          },
          "metadata": {}
        },
        {
          "output_type": "display_data",
          "data": {
            "text/html": [
              "\n",
              "  <div id=\"df-66cbe168-6a42-4125-b281-1efe21ba8db5\">\n",
              "    <div class=\"colab-df-container\">\n",
              "      <div>\n",
              "<style scoped>\n",
              "    .dataframe tbody tr th:only-of-type {\n",
              "        vertical-align: middle;\n",
              "    }\n",
              "\n",
              "    .dataframe tbody tr th {\n",
              "        vertical-align: top;\n",
              "    }\n",
              "\n",
              "    .dataframe thead tr th {\n",
              "        text-align: left;\n",
              "    }\n",
              "\n",
              "    .dataframe thead tr:last-of-type th {\n",
              "        text-align: right;\n",
              "    }\n",
              "</style>\n",
              "<table border=\"1\" class=\"dataframe\">\n",
              "  <thead>\n",
              "    <tr>\n",
              "      <th></th>\n",
              "      <th colspan=\"8\" halign=\"left\">avg_basket_size</th>\n",
              "    </tr>\n",
              "    <tr>\n",
              "      <th></th>\n",
              "      <th>count</th>\n",
              "      <th>mean</th>\n",
              "      <th>std</th>\n",
              "      <th>min</th>\n",
              "      <th>25%</th>\n",
              "      <th>50%</th>\n",
              "      <th>75%</th>\n",
              "      <th>max</th>\n",
              "    </tr>\n",
              "    <tr>\n",
              "      <th>received_communication</th>\n",
              "      <th></th>\n",
              "      <th></th>\n",
              "      <th></th>\n",
              "      <th></th>\n",
              "      <th></th>\n",
              "      <th></th>\n",
              "      <th></th>\n",
              "      <th></th>\n",
              "    </tr>\n",
              "  </thead>\n",
              "  <tbody>\n",
              "    <tr>\n",
              "      <th>0</th>\n",
              "      <td>17655.0</td>\n",
              "      <td>161.88</td>\n",
              "      <td>119.44</td>\n",
              "      <td>10.0</td>\n",
              "      <td>85.00</td>\n",
              "      <td>145.00</td>\n",
              "      <td>200.0</td>\n",
              "      <td>1675.0</td>\n",
              "    </tr>\n",
              "    <tr>\n",
              "      <th>1</th>\n",
              "      <td>18229.0</td>\n",
              "      <td>199.95</td>\n",
              "      <td>136.15</td>\n",
              "      <td>10.0</td>\n",
              "      <td>105.71</td>\n",
              "      <td>183.33</td>\n",
              "      <td>250.0</td>\n",
              "      <td>3400.2</td>\n",
              "    </tr>\n",
              "  </tbody>\n",
              "</table>\n",
              "</div>\n",
              "      <button class=\"colab-df-convert\" onclick=\"convertToInteractive('df-66cbe168-6a42-4125-b281-1efe21ba8db5')\"\n",
              "              title=\"Convert this dataframe to an interactive table.\"\n",
              "              style=\"display:none;\">\n",
              "        \n",
              "  <svg xmlns=\"http://www.w3.org/2000/svg\" height=\"24px\"viewBox=\"0 0 24 24\"\n",
              "       width=\"24px\">\n",
              "    <path d=\"M0 0h24v24H0V0z\" fill=\"none\"/>\n",
              "    <path d=\"M18.56 5.44l.94 2.06.94-2.06 2.06-.94-2.06-.94-.94-2.06-.94 2.06-2.06.94zm-11 1L8.5 8.5l.94-2.06 2.06-.94-2.06-.94L8.5 2.5l-.94 2.06-2.06.94zm10 10l.94 2.06.94-2.06 2.06-.94-2.06-.94-.94-2.06-.94 2.06-2.06.94z\"/><path d=\"M17.41 7.96l-1.37-1.37c-.4-.4-.92-.59-1.43-.59-.52 0-1.04.2-1.43.59L10.3 9.45l-7.72 7.72c-.78.78-.78 2.05 0 2.83L4 21.41c.39.39.9.59 1.41.59.51 0 1.02-.2 1.41-.59l7.78-7.78 2.81-2.81c.8-.78.8-2.07 0-2.86zM5.41 20L4 18.59l7.72-7.72 1.47 1.35L5.41 20z\"/>\n",
              "  </svg>\n",
              "      </button>\n",
              "      \n",
              "  <style>\n",
              "    .colab-df-container {\n",
              "      display:flex;\n",
              "      flex-wrap:wrap;\n",
              "      gap: 12px;\n",
              "    }\n",
              "\n",
              "    .colab-df-convert {\n",
              "      background-color: #E8F0FE;\n",
              "      border: none;\n",
              "      border-radius: 50%;\n",
              "      cursor: pointer;\n",
              "      display: none;\n",
              "      fill: #1967D2;\n",
              "      height: 32px;\n",
              "      padding: 0 0 0 0;\n",
              "      width: 32px;\n",
              "    }\n",
              "\n",
              "    .colab-df-convert:hover {\n",
              "      background-color: #E2EBFA;\n",
              "      box-shadow: 0px 1px 2px rgba(60, 64, 67, 0.3), 0px 1px 3px 1px rgba(60, 64, 67, 0.15);\n",
              "      fill: #174EA6;\n",
              "    }\n",
              "\n",
              "    [theme=dark] .colab-df-convert {\n",
              "      background-color: #3B4455;\n",
              "      fill: #D2E3FC;\n",
              "    }\n",
              "\n",
              "    [theme=dark] .colab-df-convert:hover {\n",
              "      background-color: #434B5C;\n",
              "      box-shadow: 0px 1px 3px 1px rgba(0, 0, 0, 0.15);\n",
              "      filter: drop-shadow(0px 1px 2px rgba(0, 0, 0, 0.3));\n",
              "      fill: #FFFFFF;\n",
              "    }\n",
              "  </style>\n",
              "\n",
              "      <script>\n",
              "        const buttonEl =\n",
              "          document.querySelector('#df-66cbe168-6a42-4125-b281-1efe21ba8db5 button.colab-df-convert');\n",
              "        buttonEl.style.display =\n",
              "          google.colab.kernel.accessAllowed ? 'block' : 'none';\n",
              "\n",
              "        async function convertToInteractive(key) {\n",
              "          const element = document.querySelector('#df-66cbe168-6a42-4125-b281-1efe21ba8db5');\n",
              "          const dataTable =\n",
              "            await google.colab.kernel.invokeFunction('convertToInteractive',\n",
              "                                                     [key], {});\n",
              "          if (!dataTable) return;\n",
              "\n",
              "          const docLinkHtml = 'Like what you see? Visit the ' +\n",
              "            '<a target=\"_blank\" href=https://colab.research.google.com/notebooks/data_table.ipynb>data table notebook</a>'\n",
              "            + ' to learn more about interactive tables.';\n",
              "          element.innerHTML = '';\n",
              "          dataTable['output_type'] = 'display_data';\n",
              "          await google.colab.output.renderOutput(dataTable, element);\n",
              "          const docLink = document.createElement('div');\n",
              "          docLink.innerHTML = docLinkHtml;\n",
              "          element.appendChild(docLink);\n",
              "        }\n",
              "      </script>\n",
              "    </div>\n",
              "  </div>\n",
              "  "
            ],
            "text/plain": [
              "                       avg_basket_size                  ...                       \n",
              "                                 count    mean     std  ...     50%    75%     max\n",
              "received_communication                                  ...                       \n",
              "0                              17655.0  161.88  119.44  ...  145.00  200.0  1675.0\n",
              "1                              18229.0  199.95  136.15  ...  183.33  250.0  3400.2\n",
              "\n",
              "[2 rows x 8 columns]"
            ]
          },
          "metadata": {}
        },
        {
          "output_type": "display_data",
          "data": {
            "image/png": "[encoded data removed]",
            "text/plain": [
              "<Figure size 1080x144 with 2 Axes>"
            ]
          },
          "metadata": {}
        }
      ]
    },
    {
      "cell_type": "code",
      "source": [
        "#3d scatter\n",
        "fig = plt.figure(figsize=(15,12))\n",
        "ax = fig.add_subplot(111, projection='3d')\n",
        "sns.set_theme(style=\"whitegrid\")\n",
        "for s in client_table.client_segment.unique():\n",
        "    ax.scatter(client_table.avg_conso[client_table.client_segment==s], \n",
        "                   client_table.received_communication[client_table.client_segment==s], \n",
        "                   client_table.avg_basket_size[client_table.client_segment==s],\n",
        "                   label=s, alpha=0.6)\n",
        "\n",
        "ax.set(xlabel='avg_conso ',\n",
        "          ylabel='received_communication (0:NO, 1:SI)',\n",
        "          zlabel='avg_basket_size')\n",
        "plt.legend(title='client segment', fontsize=12,bbox_to_anchor=(0.09, 1))\n",
        "plt.show()"
      ],
      "metadata": {
        "colab": {
          "base_uri": "https://localhost:8080/",
          "height": 682
        },
        "id": "8z_xV1JXVAhJ",
        "outputId": "6bc4e18d-01c2-4bb4-d222-7283fc1f646b"
      },
      "execution_count": 8,
      "outputs": [
        {
          "output_type": "display_data",
          "data": {
            "image/png": "[encoded data removed]",
            "text/plain": [
              "<Figure size 1080x864 with 1 Axes>"
            ]
          },
          "metadata": {}
        }
      ]
    },
    {
      "cell_type": "code",
      "source": [
        "#3d scatter animation\n",
        "anim = animation.FuncAnimation(fig, animate, frames=360, interval=50)\n",
        "HTML(anim.to_html5_video())"
      ],
      "metadata": {
        "id": "gPI0WCAglJbE"
      },
      "execution_count": null,
      "outputs": []
    },
    {
      "cell_type": "code",
      "source": [
        "#3d scatter\n",
        "fig2 = plt.figure(figsize=(15,12))\n",
        "ax = fig2.add_subplot(111, projection='3d')\n",
        "sns.set_theme(style=\"whitegrid\")\n",
        "for s in client_table.received_communication.unique():\n",
        "    ax.scatter(client_table.avg_conso[client_table.received_communication==s], \n",
        "                   client_table.client_segment[client_table.received_communication==s], \n",
        "                   client_table.avg_basket_size[client_table.received_communication==s],\n",
        "                   label=s, alpha=0.6)\n",
        "\n",
        "ax.set(xlabel='avg_conso ',\n",
        "          ylabel='client_segment',\n",
        "          zlabel='avg_basket_size')\n",
        "plt.legend(title='received communication', fontsize=12,bbox_to_anchor=(0.09, 1), labels=[\"NO\", \"SI\"])\n",
        "plt.show()"
      ],
      "metadata": {
        "colab": {
          "base_uri": "https://localhost:8080/",
          "height": 682
        },
        "id": "pl20afghkRPv",
        "outputId": "633b09df-2ba6-464e-cab5-6f5e8eee4915"
      },
      "execution_count": 9,
      "outputs": [
        {
          "output_type": "display_data",
          "data": {
            "image/png": "[encoded data removed]",
            "text/plain": [
              "<Figure size 1080x864 with 1 Axes>"
            ]
          },
          "metadata": {}
        }
      ]
    },
    {
      "cell_type": "code",
      "source": [
        "#3d scatter animation\n",
        "anim = animation.FuncAnimation(fig2, animate, frames=90, interval=50)\n",
        "HTML(anim.to_html5_video())"
      ],
      "metadata": {
        "id": "IlzBahOPQnTR"
      },
      "execution_count": null,
      "outputs": []
    },
    {
      "cell_type": "code",
      "source": [
        "# crosstab segment /promo\n",
        "ct = pd.crosstab(client_table.client_segment, client_table.received_communication).rename(columns={\"0\":\"NO\",\"1\":\"SI\"})\n",
        "ax = ct.plot(kind='bar', stacked=True, rot=0)\n",
        "ax.legend(title='received_communication', bbox_to_anchor=(1, 1.02), loc='upper left')"
      ],
      "metadata": {
        "colab": {
          "base_uri": "https://localhost:8080/",
          "height": 302
        },
        "id": "rR33REwpoTqC",
        "outputId": "3bc80dc5-0542-4b74-a94d-5fb129b7e4c7"
      },
      "execution_count": 12,
      "outputs": [
        {
          "output_type": "execute_result",
          "data": {
            "text/plain": [
              "<matplotlib.legend.Legend at 0x7f333b190bd0>"
            ]
          },
          "metadata": {},
          "execution_count": 12
        },
        {
          "output_type": "display_data",
          "data": {
            "image/png": "[encoded data removed]",
            "text/plain": [
              "<Figure size 432x288 with 1 Axes>"
            ]
          },
          "metadata": {}
        }
      ]
    },
    {
      "cell_type": "markdown",
      "source": [
        "## orders table"
      ],
      "metadata": {
        "id": "rZWwtpZW70DQ"
      }
    },
    {
      "cell_type": "code",
      "source": [
        "url2=\"https://challenges-asset-files.s3.us-east-2.amazonaws.com/data_sets/Data-Science/4+-+events/mwc22/mwc22-orders_table.csv\"\n",
        "orders_table = pd.read_csv(url2, dtype={'CLIENT ID': \"category\", \n",
        "                                        'ORDER ID': \"category\", \n",
        "                                        \"FRUIT_PRODUCT\": \"category\"})\n",
        "orders_table.columns = orders_table.columns.str.replace(\" \",\"_\").str.lower()\n",
        "print('Orders table dimensions:', orders_table.shape)\n",
        "orders_table.head()"
      ],
      "metadata": {
        "colab": {
          "base_uri": "https://localhost:8080/",
          "height": 223
        },
        "outputId": "e7da44e9-6e8a-4f68-d866-ed9e40d7988a",
        "id": "fQS8UZRr7leu"
      },
      "execution_count": 13,
      "outputs": [
        {
          "output_type": "stream",
          "name": "stdout",
          "text": [
            "Orders table dimensions: (66912, 4)\n"
          ]
        },
        {
          "output_type": "execute_result",
          "data": {
            "text/html": [
              "\n",
              "  <div id=\"df-322d6f37-20f0-4ead-a9cc-629937ede70c\">\n",
              "    <div class=\"colab-df-container\">\n",
              "      <div>\n",
              "<style scoped>\n",
              "    .dataframe tbody tr th:only-of-type {\n",
              "        vertical-align: middle;\n",
              "    }\n",
              "\n",
              "    .dataframe tbody tr th {\n",
              "        vertical-align: top;\n",
              "    }\n",
              "\n",
              "    .dataframe thead th {\n",
              "        text-align: right;\n",
              "    }\n",
              "</style>\n",
              "<table border=\"1\" class=\"dataframe\">\n",
              "  <thead>\n",
              "    <tr style=\"text-align: right;\">\n",
              "      <th></th>\n",
              "      <th>client_id</th>\n",
              "      <th>nb_prods</th>\n",
              "      <th>order_id</th>\n",
              "      <th>fruit_product</th>\n",
              "    </tr>\n",
              "  </thead>\n",
              "  <tbody>\n",
              "    <tr>\n",
              "      <th>0</th>\n",
              "      <td>18070505</td>\n",
              "      <td>5</td>\n",
              "      <td>671907264</td>\n",
              "      <td>Apple</td>\n",
              "    </tr>\n",
              "    <tr>\n",
              "      <th>1</th>\n",
              "      <td>18070505</td>\n",
              "      <td>10</td>\n",
              "      <td>671907264</td>\n",
              "      <td>Orange</td>\n",
              "    </tr>\n",
              "    <tr>\n",
              "      <th>2</th>\n",
              "      <td>18070505</td>\n",
              "      <td>5</td>\n",
              "      <td>671907264</td>\n",
              "      <td>Kiwi</td>\n",
              "    </tr>\n",
              "    <tr>\n",
              "      <th>3</th>\n",
              "      <td>18070505</td>\n",
              "      <td>10</td>\n",
              "      <td>671907264</td>\n",
              "      <td>Pear</td>\n",
              "    </tr>\n",
              "    <tr>\n",
              "      <th>4</th>\n",
              "      <td>18070505</td>\n",
              "      <td>5</td>\n",
              "      <td>671907264</td>\n",
              "      <td>Cheery</td>\n",
              "    </tr>\n",
              "  </tbody>\n",
              "</table>\n",
              "</div>\n",
              "      <button class=\"colab-df-convert\" onclick=\"convertToInteractive('df-322d6f37-20f0-4ead-a9cc-629937ede70c')\"\n",
              "              title=\"Convert this dataframe to an interactive table.\"\n",
              "              style=\"display:none;\">\n",
              "        \n",
              "  <svg xmlns=\"http://www.w3.org/2000/svg\" height=\"24px\"viewBox=\"0 0 24 24\"\n",
              "       width=\"24px\">\n",
              "    <path d=\"M0 0h24v24H0V0z\" fill=\"none\"/>\n",
              "    <path d=\"M18.56 5.44l.94 2.06.94-2.06 2.06-.94-2.06-.94-.94-2.06-.94 2.06-2.06.94zm-11 1L8.5 8.5l.94-2.06 2.06-.94-2.06-.94L8.5 2.5l-.94 2.06-2.06.94zm10 10l.94 2.06.94-2.06 2.06-.94-2.06-.94-.94-2.06-.94 2.06-2.06.94z\"/><path d=\"M17.41 7.96l-1.37-1.37c-.4-.4-.92-.59-1.43-.59-.52 0-1.04.2-1.43.59L10.3 9.45l-7.72 7.72c-.78.78-.78 2.05 0 2.83L4 21.41c.39.39.9.59 1.41.59.51 0 1.02-.2 1.41-.59l7.78-7.78 2.81-2.81c.8-.78.8-2.07 0-2.86zM5.41 20L4 18.59l7.72-7.72 1.47 1.35L5.41 20z\"/>\n",
              "  </svg>\n",
              "      </button>\n",
              "      \n",
              "  <style>\n",
              "    .colab-df-container {\n",
              "      display:flex;\n",
              "      flex-wrap:wrap;\n",
              "      gap: 12px;\n",
              "    }\n",
              "\n",
              "    .colab-df-convert {\n",
              "      background-color: #E8F0FE;\n",
              "      border: none;\n",
              "      border-radius: 50%;\n",
              "      cursor: pointer;\n",
              "      display: none;\n",
              "      fill: #1967D2;\n",
              "      height: 32px;\n",
              "      padding: 0 0 0 0;\n",
              "      width: 32px;\n",
              "    }\n",
              "\n",
              "    .colab-df-convert:hover {\n",
              "      background-color: #E2EBFA;\n",
              "      box-shadow: 0px 1px 2px rgba(60, 64, 67, 0.3), 0px 1px 3px 1px rgba(60, 64, 67, 0.15);\n",
              "      fill: #174EA6;\n",
              "    }\n",
              "\n",
              "    [theme=dark] .colab-df-convert {\n",
              "      background-color: #3B4455;\n",
              "      fill: #D2E3FC;\n",
              "    }\n",
              "\n",
              "    [theme=dark] .colab-df-convert:hover {\n",
              "      background-color: #434B5C;\n",
              "      box-shadow: 0px 1px 3px 1px rgba(0, 0, 0, 0.15);\n",
              "      filter: drop-shadow(0px 1px 2px rgba(0, 0, 0, 0.3));\n",
              "      fill: #FFFFFF;\n",
              "    }\n",
              "  </style>\n",
              "\n",
              "      <script>\n",
              "        const buttonEl =\n",
              "          document.querySelector('#df-322d6f37-20f0-4ead-a9cc-629937ede70c button.colab-df-convert');\n",
              "        buttonEl.style.display =\n",
              "          google.colab.kernel.accessAllowed ? 'block' : 'none';\n",
              "\n",
              "        async function convertToInteractive(key) {\n",
              "          const element = document.querySelector('#df-322d6f37-20f0-4ead-a9cc-629937ede70c');\n",
              "          const dataTable =\n",
              "            await google.colab.kernel.invokeFunction('convertToInteractive',\n",
              "                                                     [key], {});\n",
              "          if (!dataTable) return;\n",
              "\n",
              "          const docLinkHtml = 'Like what you see? Visit the ' +\n",
              "            '<a target=\"_blank\" href=https://colab.research.google.com/notebooks/data_table.ipynb>data table notebook</a>'\n",
              "            + ' to learn more about interactive tables.';\n",
              "          element.innerHTML = '';\n",
              "          dataTable['output_type'] = 'display_data';\n",
              "          await google.colab.output.renderOutput(dataTable, element);\n",
              "          const docLink = document.createElement('div');\n",
              "          docLink.innerHTML = docLinkHtml;\n",
              "          element.appendChild(docLink);\n",
              "        }\n",
              "      </script>\n",
              "    </div>\n",
              "  </div>\n",
              "  "
            ],
            "text/plain": [
              "  client_id  nb_prods   order_id fruit_product\n",
              "0  18070505         5  671907264         Apple\n",
              "1  18070505        10  671907264        Orange\n",
              "2  18070505         5  671907264          Kiwi\n",
              "3  18070505        10  671907264          Pear\n",
              "4  18070505         5  671907264        Cheery"
            ]
          },
          "metadata": {},
          "execution_count": 13
        }
      ]
    },
    {
      "cell_type": "markdown",
      "source": [
        "We see that there is more order id than customers id. for which the same client has made more than one order"
      ],
      "metadata": {
        "id": "H2CUMFsWA9nX"
      }
    },
    {
      "cell_type": "code",
      "source": [
        "describer(orders_table)"
      ],
      "metadata": {
        "colab": {
          "base_uri": "https://localhost:8080/",
          "height": 175
        },
        "outputId": "50ebc078-68a2-4115-cbd7-1e7f9de6108e",
        "id": "GdV7LoEa7lfA"
      },
      "execution_count": 14,
      "outputs": [
        {
          "output_type": "execute_result",
          "data": {
            "text/html": [
              "\n",
              "  <div id=\"df-dd8cc852-76bc-4bda-af28-70fd834de300\">\n",
              "    <div class=\"colab-df-container\">\n",
              "      <div>\n",
              "<style scoped>\n",
              "    .dataframe tbody tr th:only-of-type {\n",
              "        vertical-align: middle;\n",
              "    }\n",
              "\n",
              "    .dataframe tbody tr th {\n",
              "        vertical-align: top;\n",
              "    }\n",
              "\n",
              "    .dataframe thead th {\n",
              "        text-align: right;\n",
              "    }\n",
              "</style>\n",
              "<table border=\"1\" class=\"dataframe\">\n",
              "  <thead>\n",
              "    <tr style=\"text-align: right;\">\n",
              "      <th></th>\n",
              "      <th>count</th>\n",
              "      <th>unique</th>\n",
              "      <th>top</th>\n",
              "      <th>freq</th>\n",
              "      <th>mean</th>\n",
              "      <th>std</th>\n",
              "      <th>min</th>\n",
              "      <th>25%</th>\n",
              "      <th>50%</th>\n",
              "      <th>75%</th>\n",
              "      <th>max</th>\n",
              "      <th>NullAny</th>\n",
              "      <th>NullSum</th>\n",
              "      <th>NullPct</th>\n",
              "      <th>dtypes</th>\n",
              "    </tr>\n",
              "  </thead>\n",
              "  <tbody>\n",
              "    <tr>\n",
              "      <th>client_id</th>\n",
              "      <td>66912</td>\n",
              "      <td>14499</td>\n",
              "      <td>18851598</td>\n",
              "      <td>77</td>\n",
              "      <td>NaN</td>\n",
              "      <td>NaN</td>\n",
              "      <td>NaN</td>\n",
              "      <td>NaN</td>\n",
              "      <td>NaN</td>\n",
              "      <td>NaN</td>\n",
              "      <td>NaN</td>\n",
              "      <td>False</td>\n",
              "      <td>0</td>\n",
              "      <td>0.0</td>\n",
              "      <td>category</td>\n",
              "    </tr>\n",
              "    <tr>\n",
              "      <th>nb_prods</th>\n",
              "      <td>66912.0</td>\n",
              "      <td>82</td>\n",
              "      <td>NaN</td>\n",
              "      <td>NaN</td>\n",
              "      <td>4.53</td>\n",
              "      <td>5.79</td>\n",
              "      <td>-80.0</td>\n",
              "      <td>1.0</td>\n",
              "      <td>3.0</td>\n",
              "      <td>5.0</td>\n",
              "      <td>198.0</td>\n",
              "      <td>False</td>\n",
              "      <td>0</td>\n",
              "      <td>0.0</td>\n",
              "      <td>int64</td>\n",
              "    </tr>\n",
              "    <tr>\n",
              "      <th>order_id</th>\n",
              "      <td>66912</td>\n",
              "      <td>17458</td>\n",
              "      <td>667989609</td>\n",
              "      <td>36</td>\n",
              "      <td>NaN</td>\n",
              "      <td>NaN</td>\n",
              "      <td>NaN</td>\n",
              "      <td>NaN</td>\n",
              "      <td>NaN</td>\n",
              "      <td>NaN</td>\n",
              "      <td>NaN</td>\n",
              "      <td>False</td>\n",
              "      <td>0</td>\n",
              "      <td>0.0</td>\n",
              "      <td>category</td>\n",
              "    </tr>\n",
              "    <tr>\n",
              "      <th>fruit_product</th>\n",
              "      <td>66912</td>\n",
              "      <td>24</td>\n",
              "      <td>Kiwi</td>\n",
              "      <td>6431</td>\n",
              "      <td>NaN</td>\n",
              "      <td>NaN</td>\n",
              "      <td>NaN</td>\n",
              "      <td>NaN</td>\n",
              "      <td>NaN</td>\n",
              "      <td>NaN</td>\n",
              "      <td>NaN</td>\n",
              "      <td>False</td>\n",
              "      <td>0</td>\n",
              "      <td>0.0</td>\n",
              "      <td>category</td>\n",
              "    </tr>\n",
              "  </tbody>\n",
              "</table>\n",
              "</div>\n",
              "      <button class=\"colab-df-convert\" onclick=\"convertToInteractive('df-dd8cc852-76bc-4bda-af28-70fd834de300')\"\n",
              "              title=\"Convert this dataframe to an interactive table.\"\n",
              "              style=\"display:none;\">\n",
              "        \n",
              "  <svg xmlns=\"http://www.w3.org/2000/svg\" height=\"24px\"viewBox=\"0 0 24 24\"\n",
              "       width=\"24px\">\n",
              "    <path d=\"M0 0h24v24H0V0z\" fill=\"none\"/>\n",
              "    <path d=\"M18.56 5.44l.94 2.06.94-2.06 2.06-.94-2.06-.94-.94-2.06-.94 2.06-2.06.94zm-11 1L8.5 8.5l.94-2.06 2.06-.94-2.06-.94L8.5 2.5l-.94 2.06-2.06.94zm10 10l.94 2.06.94-2.06 2.06-.94-2.06-.94-.94-2.06-.94 2.06-2.06.94z\"/><path d=\"M17.41 7.96l-1.37-1.37c-.4-.4-.92-.59-1.43-.59-.52 0-1.04.2-1.43.59L10.3 9.45l-7.72 7.72c-.78.78-.78 2.05 0 2.83L4 21.41c.39.39.9.59 1.41.59.51 0 1.02-.2 1.41-.59l7.78-7.78 2.81-2.81c.8-.78.8-2.07 0-2.86zM5.41 20L4 18.59l7.72-7.72 1.47 1.35L5.41 20z\"/>\n",
              "  </svg>\n",
              "      </button>\n",
              "      \n",
              "  <style>\n",
              "    .colab-df-container {\n",
              "      display:flex;\n",
              "      flex-wrap:wrap;\n",
              "      gap: 12px;\n",
              "    }\n",
              "\n",
              "    .colab-df-convert {\n",
              "      background-color: #E8F0FE;\n",
              "      border: none;\n",
              "      border-radius: 50%;\n",
              "      cursor: pointer;\n",
              "      display: none;\n",
              "      fill: #1967D2;\n",
              "      height: 32px;\n",
              "      padding: 0 0 0 0;\n",
              "      width: 32px;\n",
              "    }\n",
              "\n",
              "    .colab-df-convert:hover {\n",
              "      background-color: #E2EBFA;\n",
              "      box-shadow: 0px 1px 2px rgba(60, 64, 67, 0.3), 0px 1px 3px 1px rgba(60, 64, 67, 0.15);\n",
              "      fill: #174EA6;\n",
              "    }\n",
              "\n",
              "    [theme=dark] .colab-df-convert {\n",
              "      background-color: #3B4455;\n",
              "      fill: #D2E3FC;\n",
              "    }\n",
              "\n",
              "    [theme=dark] .colab-df-convert:hover {\n",
              "      background-color: #434B5C;\n",
              "      box-shadow: 0px 1px 3px 1px rgba(0, 0, 0, 0.15);\n",
              "      filter: drop-shadow(0px 1px 2px rgba(0, 0, 0, 0.3));\n",
              "      fill: #FFFFFF;\n",
              "    }\n",
              "  </style>\n",
              "\n",
              "      <script>\n",
              "        const buttonEl =\n",
              "          document.querySelector('#df-dd8cc852-76bc-4bda-af28-70fd834de300 button.colab-df-convert');\n",
              "        buttonEl.style.display =\n",
              "          google.colab.kernel.accessAllowed ? 'block' : 'none';\n",
              "\n",
              "        async function convertToInteractive(key) {\n",
              "          const element = document.querySelector('#df-dd8cc852-76bc-4bda-af28-70fd834de300');\n",
              "          const dataTable =\n",
              "            await google.colab.kernel.invokeFunction('convertToInteractive',\n",
              "                                                     [key], {});\n",
              "          if (!dataTable) return;\n",
              "\n",
              "          const docLinkHtml = 'Like what you see? Visit the ' +\n",
              "            '<a target=\"_blank\" href=https://colab.research.google.com/notebooks/data_table.ipynb>data table notebook</a>'\n",
              "            + ' to learn more about interactive tables.';\n",
              "          element.innerHTML = '';\n",
              "          dataTable['output_type'] = 'display_data';\n",
              "          await google.colab.output.renderOutput(dataTable, element);\n",
              "          const docLink = document.createElement('div');\n",
              "          docLink.innerHTML = docLinkHtml;\n",
              "          element.appendChild(docLink);\n",
              "        }\n",
              "      </script>\n",
              "    </div>\n",
              "  </div>\n",
              "  "
            ],
            "text/plain": [
              "                 count  unique        top  ... NullSum NullPct    dtypes\n",
              "client_id        66912   14499   18851598  ...       0     0.0  category\n",
              "nb_prods       66912.0      82        NaN  ...       0     0.0     int64\n",
              "order_id         66912   17458  667989609  ...       0     0.0  category\n",
              "fruit_product    66912      24       Kiwi  ...       0     0.0  category\n",
              "\n",
              "[4 rows x 15 columns]"
            ]
          },
          "metadata": {},
          "execution_count": 14
        }
      ]
    },
    {
      "cell_type": "markdown",
      "metadata": {
        "_cell_guid": "ebbe5646-3bb8-41fa-a723-ceca20d23305",
        "_uuid": "7ac7f800756405f801d09d290624c0767a3b5ef6",
        "id": "3uAN3ho27lfB"
      },
      "source": [
        "I check for duplicate entries:"
      ]
    },
    {
      "cell_type": "code",
      "source": [
        "print('Duplicate entries: {}'.format(orders_table.duplicated().sum()))"
      ],
      "metadata": {
        "colab": {
          "base_uri": "https://localhost:8080/"
        },
        "outputId": "d6cb490c-3f81-424b-c8d8-06bda07c3220",
        "id": "wCfnsQq-7lfB"
      },
      "execution_count": 15,
      "outputs": [
        {
          "output_type": "stream",
          "name": "stdout",
          "text": [
            "Duplicate entries: 616\n"
          ]
        }
      ]
    },
    {
      "cell_type": "code",
      "source": [
        "pd.DataFrame([{'products': len(orders_table['fruit_product'].value_counts()),    \n",
        "               'orders': len(orders_table['order_id'].value_counts()),\n",
        "               'customers': len(orders_table['client_id'].value_counts()),  \n",
        "              }], columns = ['products', 'orders', 'customers'], index = ['n_unique'])"
      ],
      "metadata": {
        "colab": {
          "base_uri": "https://localhost:8080/",
          "height": 81
        },
        "id": "InhP0r5cK8PU",
        "outputId": "64db30a0-4ce6-4dd8-b1a8-33c48a51141e"
      },
      "execution_count": 16,
      "outputs": [
        {
          "output_type": "execute_result",
          "data": {
            "text/html": [
              "\n",
              "  <div id=\"df-7dab7e19-723f-4867-9a09-d7ebd8f1ccf0\">\n",
              "    <div class=\"colab-df-container\">\n",
              "      <div>\n",
              "<style scoped>\n",
              "    .dataframe tbody tr th:only-of-type {\n",
              "        vertical-align: middle;\n",
              "    }\n",
              "\n",
              "    .dataframe tbody tr th {\n",
              "        vertical-align: top;\n",
              "    }\n",
              "\n",
              "    .dataframe thead th {\n",
              "        text-align: right;\n",
              "    }\n",
              "</style>\n",
              "<table border=\"1\" class=\"dataframe\">\n",
              "  <thead>\n",
              "    <tr style=\"text-align: right;\">\n",
              "      <th></th>\n",
              "      <th>products</th>\n",
              "      <th>orders</th>\n",
              "      <th>customers</th>\n",
              "    </tr>\n",
              "  </thead>\n",
              "  <tbody>\n",
              "    <tr>\n",
              "      <th>n_unique</th>\n",
              "      <td>24</td>\n",
              "      <td>17458</td>\n",
              "      <td>14499</td>\n",
              "    </tr>\n",
              "  </tbody>\n",
              "</table>\n",
              "</div>\n",
              "      <button class=\"colab-df-convert\" onclick=\"convertToInteractive('df-7dab7e19-723f-4867-9a09-d7ebd8f1ccf0')\"\n",
              "              title=\"Convert this dataframe to an interactive table.\"\n",
              "              style=\"display:none;\">\n",
              "        \n",
              "  <svg xmlns=\"http://www.w3.org/2000/svg\" height=\"24px\"viewBox=\"0 0 24 24\"\n",
              "       width=\"24px\">\n",
              "    <path d=\"M0 0h24v24H0V0z\" fill=\"none\"/>\n",
              "    <path d=\"M18.56 5.44l.94 2.06.94-2.06 2.06-.94-2.06-.94-.94-2.06-.94 2.06-2.06.94zm-11 1L8.5 8.5l.94-2.06 2.06-.94-2.06-.94L8.5 2.5l-.94 2.06-2.06.94zm10 10l.94 2.06.94-2.06 2.06-.94-2.06-.94-.94-2.06-.94 2.06-2.06.94z\"/><path d=\"M17.41 7.96l-1.37-1.37c-.4-.4-.92-.59-1.43-.59-.52 0-1.04.2-1.43.59L10.3 9.45l-7.72 7.72c-.78.78-.78 2.05 0 2.83L4 21.41c.39.39.9.59 1.41.59.51 0 1.02-.2 1.41-.59l7.78-7.78 2.81-2.81c.8-.78.8-2.07 0-2.86zM5.41 20L4 18.59l7.72-7.72 1.47 1.35L5.41 20z\"/>\n",
              "  </svg>\n",
              "      </button>\n",
              "      \n",
              "  <style>\n",
              "    .colab-df-container {\n",
              "      display:flex;\n",
              "      flex-wrap:wrap;\n",
              "      gap: 12px;\n",
              "    }\n",
              "\n",
              "    .colab-df-convert {\n",
              "      background-color: #E8F0FE;\n",
              "      border: none;\n",
              "      border-radius: 50%;\n",
              "      cursor: pointer;\n",
              "      display: none;\n",
              "      fill: #1967D2;\n",
              "      height: 32px;\n",
              "      padding: 0 0 0 0;\n",
              "      width: 32px;\n",
              "    }\n",
              "\n",
              "    .colab-df-convert:hover {\n",
              "      background-color: #E2EBFA;\n",
              "      box-shadow: 0px 1px 2px rgba(60, 64, 67, 0.3), 0px 1px 3px 1px rgba(60, 64, 67, 0.15);\n",
              "      fill: #174EA6;\n",
              "    }\n",
              "\n",
              "    [theme=dark] .colab-df-convert {\n",
              "      background-color: #3B4455;\n",
              "      fill: #D2E3FC;\n",
              "    }\n",
              "\n",
              "    [theme=dark] .colab-df-convert:hover {\n",
              "      background-color: #434B5C;\n",
              "      box-shadow: 0px 1px 3px 1px rgba(0, 0, 0, 0.15);\n",
              "      filter: drop-shadow(0px 1px 2px rgba(0, 0, 0, 0.3));\n",
              "      fill: #FFFFFF;\n",
              "    }\n",
              "  </style>\n",
              "\n",
              "      <script>\n",
              "        const buttonEl =\n",
              "          document.querySelector('#df-7dab7e19-723f-4867-9a09-d7ebd8f1ccf0 button.colab-df-convert');\n",
              "        buttonEl.style.display =\n",
              "          google.colab.kernel.accessAllowed ? 'block' : 'none';\n",
              "\n",
              "        async function convertToInteractive(key) {\n",
              "          const element = document.querySelector('#df-7dab7e19-723f-4867-9a09-d7ebd8f1ccf0');\n",
              "          const dataTable =\n",
              "            await google.colab.kernel.invokeFunction('convertToInteractive',\n",
              "                                                     [key], {});\n",
              "          if (!dataTable) return;\n",
              "\n",
              "          const docLinkHtml = 'Like what you see? Visit the ' +\n",
              "            '<a target=\"_blank\" href=https://colab.research.google.com/notebooks/data_table.ipynb>data table notebook</a>'\n",
              "            + ' to learn more about interactive tables.';\n",
              "          element.innerHTML = '';\n",
              "          dataTable['output_type'] = 'display_data';\n",
              "          await google.colab.output.renderOutput(dataTable, element);\n",
              "          const docLink = document.createElement('div');\n",
              "          docLink.innerHTML = docLinkHtml;\n",
              "          element.appendChild(docLink);\n",
              "        }\n",
              "      </script>\n",
              "    </div>\n",
              "  </div>\n",
              "  "
            ],
            "text/plain": [
              "          products  orders  customers\n",
              "n_unique        24   17458      14499"
            ]
          },
          "metadata": {},
          "execution_count": 16
        }
      ]
    },
    {
      "cell_type": "markdown",
      "source": [
        "It can be seen that the data contains 14,499 users and that they bought 24 different products. The total number of ORDERS carried out is 17,458.\n",
        "\n",
        "\t\t"
      ],
      "metadata": {
        "id": "_WDje_ZYLaMG"
      }
    },
    {
      "cell_type": "code",
      "source": [
        "#we check that the same customer can make more than one order\n",
        "(orders_table.groupby('client_id')['order_id'].nunique() > 1).any()"
      ],
      "metadata": {
        "colab": {
          "base_uri": "https://localhost:8080/"
        },
        "id": "4L5LCZmkAI8k",
        "outputId": "63774b29-071e-4142-dfa7-39aa9d2aa37d"
      },
      "execution_count": 17,
      "outputs": [
        {
          "output_type": "execute_result",
          "data": {
            "text/plain": [
              "True"
            ]
          },
          "metadata": {},
          "execution_count": 17
        }
      ]
    },
    {
      "cell_type": "code",
      "source": [
        "#we check that an order can be made only by a single customer\n",
        "(orders_table.groupby('order_id')['client_id'].nunique() > 1).any()"
      ],
      "metadata": {
        "colab": {
          "base_uri": "https://localhost:8080/"
        },
        "id": "Sl3enxDIABTg",
        "outputId": "fba51ac8-9cde-4661-f683-54d3b0ead760"
      },
      "execution_count": 18,
      "outputs": [
        {
          "output_type": "execute_result",
          "data": {
            "text/plain": [
              "False"
            ]
          },
          "metadata": {},
          "execution_count": 18
        }
      ]
    },
    {
      "cell_type": "markdown",
      "source": [
        "Some customers have a negative total nb_prods of products purchased (e.g. client_id 42742047)."
      ],
      "metadata": {
        "id": "im9nLol_YCtY"
      }
    },
    {
      "cell_type": "code",
      "source": [
        "orders_table.sort_values(by=[\"nb_prods\"])"
      ],
      "metadata": {
        "colab": {
          "base_uri": "https://localhost:8080/",
          "height": 423
        },
        "id": "_gT-exA-dkvm",
        "outputId": "4116525a-c031-4fc0-9804-227e2baf61c7"
      },
      "execution_count": 19,
      "outputs": [
        {
          "output_type": "execute_result",
          "data": {
            "text/html": [
              "\n",
              "  <div id=\"df-aad6bc61-fa6d-4c56-9a6d-b8cdcae149ec\">\n",
              "    <div class=\"colab-df-container\">\n",
              "      <div>\n",
              "<style scoped>\n",
              "    .dataframe tbody tr th:only-of-type {\n",
              "        vertical-align: middle;\n",
              "    }\n",
              "\n",
              "    .dataframe tbody tr th {\n",
              "        vertical-align: top;\n",
              "    }\n",
              "\n",
              "    .dataframe thead th {\n",
              "        text-align: right;\n",
              "    }\n",
              "</style>\n",
              "<table border=\"1\" class=\"dataframe\">\n",
              "  <thead>\n",
              "    <tr style=\"text-align: right;\">\n",
              "      <th></th>\n",
              "      <th>client_id</th>\n",
              "      <th>nb_prods</th>\n",
              "      <th>order_id</th>\n",
              "      <th>fruit_product</th>\n",
              "    </tr>\n",
              "  </thead>\n",
              "  <tbody>\n",
              "    <tr>\n",
              "      <th>63380</th>\n",
              "      <td>42742047</td>\n",
              "      <td>-80</td>\n",
              "      <td>664120136</td>\n",
              "      <td>Orange</td>\n",
              "    </tr>\n",
              "    <tr>\n",
              "      <th>18168</th>\n",
              "      <td>20377967</td>\n",
              "      <td>-40</td>\n",
              "      <td>670198442</td>\n",
              "      <td>Orange</td>\n",
              "    </tr>\n",
              "    <tr>\n",
              "      <th>47556</th>\n",
              "      <td>24877844</td>\n",
              "      <td>-40</td>\n",
              "      <td>663838938</td>\n",
              "      <td>Kiwi</td>\n",
              "    </tr>\n",
              "    <tr>\n",
              "      <th>18171</th>\n",
              "      <td>20377967</td>\n",
              "      <td>-40</td>\n",
              "      <td>668389842</td>\n",
              "      <td>Orange</td>\n",
              "    </tr>\n",
              "    <tr>\n",
              "      <th>34884</th>\n",
              "      <td>39293252</td>\n",
              "      <td>-40</td>\n",
              "      <td>667139243</td>\n",
              "      <td>Kiwi</td>\n",
              "    </tr>\n",
              "    <tr>\n",
              "      <th>...</th>\n",
              "      <td>...</td>\n",
              "      <td>...</td>\n",
              "      <td>...</td>\n",
              "      <td>...</td>\n",
              "    </tr>\n",
              "    <tr>\n",
              "      <th>20638</th>\n",
              "      <td>20721198</td>\n",
              "      <td>100</td>\n",
              "      <td>668395689</td>\n",
              "      <td>Cheery</td>\n",
              "    </tr>\n",
              "    <tr>\n",
              "      <th>56718</th>\n",
              "      <td>25417539</td>\n",
              "      <td>102</td>\n",
              "      <td>675961989</td>\n",
              "      <td>Kiwi</td>\n",
              "    </tr>\n",
              "    <tr>\n",
              "      <th>32129</th>\n",
              "      <td>22116141</td>\n",
              "      <td>120</td>\n",
              "      <td>674347996</td>\n",
              "      <td>Lemon</td>\n",
              "    </tr>\n",
              "    <tr>\n",
              "      <th>41010</th>\n",
              "      <td>24477147</td>\n",
              "      <td>180</td>\n",
              "      <td>673919468</td>\n",
              "      <td>Cheery</td>\n",
              "    </tr>\n",
              "    <tr>\n",
              "      <th>18396</th>\n",
              "      <td>20405483</td>\n",
              "      <td>198</td>\n",
              "      <td>675520127</td>\n",
              "      <td>Orange</td>\n",
              "    </tr>\n",
              "  </tbody>\n",
              "</table>\n",
              "<p>66912 rows × 4 columns</p>\n",
              "</div>\n",
              "      <button class=\"colab-df-convert\" onclick=\"convertToInteractive('df-aad6bc61-fa6d-4c56-9a6d-b8cdcae149ec')\"\n",
              "              title=\"Convert this dataframe to an interactive table.\"\n",
              "              style=\"display:none;\">\n",
              "        \n",
              "  <svg xmlns=\"http://www.w3.org/2000/svg\" height=\"24px\"viewBox=\"0 0 24 24\"\n",
              "       width=\"24px\">\n",
              "    <path d=\"M0 0h24v24H0V0z\" fill=\"none\"/>\n",
              "    <path d=\"M18.56 5.44l.94 2.06.94-2.06 2.06-.94-2.06-.94-.94-2.06-.94 2.06-2.06.94zm-11 1L8.5 8.5l.94-2.06 2.06-.94-2.06-.94L8.5 2.5l-.94 2.06-2.06.94zm10 10l.94 2.06.94-2.06 2.06-.94-2.06-.94-.94-2.06-.94 2.06-2.06.94z\"/><path d=\"M17.41 7.96l-1.37-1.37c-.4-.4-.92-.59-1.43-.59-.52 0-1.04.2-1.43.59L10.3 9.45l-7.72 7.72c-.78.78-.78 2.05 0 2.83L4 21.41c.39.39.9.59 1.41.59.51 0 1.02-.2 1.41-.59l7.78-7.78 2.81-2.81c.8-.78.8-2.07 0-2.86zM5.41 20L4 18.59l7.72-7.72 1.47 1.35L5.41 20z\"/>\n",
              "  </svg>\n",
              "      </button>\n",
              "      \n",
              "  <style>\n",
              "    .colab-df-container {\n",
              "      display:flex;\n",
              "      flex-wrap:wrap;\n",
              "      gap: 12px;\n",
              "    }\n",
              "\n",
              "    .colab-df-convert {\n",
              "      background-color: #E8F0FE;\n",
              "      border: none;\n",
              "      border-radius: 50%;\n",
              "      cursor: pointer;\n",
              "      display: none;\n",
              "      fill: #1967D2;\n",
              "      height: 32px;\n",
              "      padding: 0 0 0 0;\n",
              "      width: 32px;\n",
              "    }\n",
              "\n",
              "    .colab-df-convert:hover {\n",
              "      background-color: #E2EBFA;\n",
              "      box-shadow: 0px 1px 2px rgba(60, 64, 67, 0.3), 0px 1px 3px 1px rgba(60, 64, 67, 0.15);\n",
              "      fill: #174EA6;\n",
              "    }\n",
              "\n",
              "    [theme=dark] .colab-df-convert {\n",
              "      background-color: #3B4455;\n",
              "      fill: #D2E3FC;\n",
              "    }\n",
              "\n",
              "    [theme=dark] .colab-df-convert:hover {\n",
              "      background-color: #434B5C;\n",
              "      box-shadow: 0px 1px 3px 1px rgba(0, 0, 0, 0.15);\n",
              "      filter: drop-shadow(0px 1px 2px rgba(0, 0, 0, 0.3));\n",
              "      fill: #FFFFFF;\n",
              "    }\n",
              "  </style>\n",
              "\n",
              "      <script>\n",
              "        const buttonEl =\n",
              "          document.querySelector('#df-aad6bc61-fa6d-4c56-9a6d-b8cdcae149ec button.colab-df-convert');\n",
              "        buttonEl.style.display =\n",
              "          google.colab.kernel.accessAllowed ? 'block' : 'none';\n",
              "\n",
              "        async function convertToInteractive(key) {\n",
              "          const element = document.querySelector('#df-aad6bc61-fa6d-4c56-9a6d-b8cdcae149ec');\n",
              "          const dataTable =\n",
              "            await google.colab.kernel.invokeFunction('convertToInteractive',\n",
              "                                                     [key], {});\n",
              "          if (!dataTable) return;\n",
              "\n",
              "          const docLinkHtml = 'Like what you see? Visit the ' +\n",
              "            '<a target=\"_blank\" href=https://colab.research.google.com/notebooks/data_table.ipynb>data table notebook</a>'\n",
              "            + ' to learn more about interactive tables.';\n",
              "          element.innerHTML = '';\n",
              "          dataTable['output_type'] = 'display_data';\n",
              "          await google.colab.output.renderOutput(dataTable, element);\n",
              "          const docLink = document.createElement('div');\n",
              "          docLink.innerHTML = docLinkHtml;\n",
              "          element.appendChild(docLink);\n",
              "        }\n",
              "      </script>\n",
              "    </div>\n",
              "  </div>\n",
              "  "
            ],
            "text/plain": [
              "      client_id  nb_prods   order_id fruit_product\n",
              "63380  42742047       -80  664120136        Orange\n",
              "18168  20377967       -40  670198442        Orange\n",
              "47556  24877844       -40  663838938          Kiwi\n",
              "18171  20377967       -40  668389842        Orange\n",
              "34884  39293252       -40  667139243          Kiwi\n",
              "...         ...       ...        ...           ...\n",
              "20638  20721198       100  668395689        Cheery\n",
              "56718  25417539       102  675961989          Kiwi\n",
              "32129  22116141       120  674347996         Lemon\n",
              "41010  24477147       180  673919468        Cheery\n",
              "18396  20405483       198  675520127        Orange\n",
              "\n",
              "[66912 rows x 4 columns]"
            ]
          },
          "metadata": {},
          "execution_count": 19
        }
      ]
    },
    {
      "cell_type": "markdown",
      "source": [
        "If we inspect these orders we can see that they indicate canceled transactions or product returns.\n",
        "\n"
      ],
      "metadata": {
        "id": "sx_fRnpyWvZC"
      }
    },
    {
      "cell_type": "code",
      "source": [
        "orders_table[orders_table.client_id == \"42742047\"]"
      ],
      "metadata": {
        "colab": {
          "base_uri": "https://localhost:8080/",
          "height": 175
        },
        "id": "2O8EqJs-Xps5",
        "outputId": "604c38e8-e788-4ccd-c679-c199249139c6"
      },
      "execution_count": 20,
      "outputs": [
        {
          "output_type": "execute_result",
          "data": {
            "text/html": [
              "\n",
              "  <div id=\"df-9a0e8500-6949-4460-9cf5-cbee4bf63408\">\n",
              "    <div class=\"colab-df-container\">\n",
              "      <div>\n",
              "<style scoped>\n",
              "    .dataframe tbody tr th:only-of-type {\n",
              "        vertical-align: middle;\n",
              "    }\n",
              "\n",
              "    .dataframe tbody tr th {\n",
              "        vertical-align: top;\n",
              "    }\n",
              "\n",
              "    .dataframe thead th {\n",
              "        text-align: right;\n",
              "    }\n",
              "</style>\n",
              "<table border=\"1\" class=\"dataframe\">\n",
              "  <thead>\n",
              "    <tr style=\"text-align: right;\">\n",
              "      <th></th>\n",
              "      <th>client_id</th>\n",
              "      <th>nb_prods</th>\n",
              "      <th>order_id</th>\n",
              "      <th>fruit_product</th>\n",
              "    </tr>\n",
              "  </thead>\n",
              "  <tbody>\n",
              "    <tr>\n",
              "      <th>63378</th>\n",
              "      <td>42742047</td>\n",
              "      <td>35</td>\n",
              "      <td>670844018</td>\n",
              "      <td>Jackfruit</td>\n",
              "    </tr>\n",
              "    <tr>\n",
              "      <th>63379</th>\n",
              "      <td>42742047</td>\n",
              "      <td>-35</td>\n",
              "      <td>664120136</td>\n",
              "      <td>Jackfruit</td>\n",
              "    </tr>\n",
              "    <tr>\n",
              "      <th>63380</th>\n",
              "      <td>42742047</td>\n",
              "      <td>-80</td>\n",
              "      <td>664120136</td>\n",
              "      <td>Orange</td>\n",
              "    </tr>\n",
              "    <tr>\n",
              "      <th>63381</th>\n",
              "      <td>42742047</td>\n",
              "      <td>80</td>\n",
              "      <td>670844018</td>\n",
              "      <td>Orange</td>\n",
              "    </tr>\n",
              "  </tbody>\n",
              "</table>\n",
              "</div>\n",
              "      <button class=\"colab-df-convert\" onclick=\"convertToInteractive('df-9a0e8500-6949-4460-9cf5-cbee4bf63408')\"\n",
              "              title=\"Convert this dataframe to an interactive table.\"\n",
              "              style=\"display:none;\">\n",
              "        \n",
              "  <svg xmlns=\"http://www.w3.org/2000/svg\" height=\"24px\"viewBox=\"0 0 24 24\"\n",
              "       width=\"24px\">\n",
              "    <path d=\"M0 0h24v24H0V0z\" fill=\"none\"/>\n",
              "    <path d=\"M18.56 5.44l.94 2.06.94-2.06 2.06-.94-2.06-.94-.94-2.06-.94 2.06-2.06.94zm-11 1L8.5 8.5l.94-2.06 2.06-.94-2.06-.94L8.5 2.5l-.94 2.06-2.06.94zm10 10l.94 2.06.94-2.06 2.06-.94-2.06-.94-.94-2.06-.94 2.06-2.06.94z\"/><path d=\"M17.41 7.96l-1.37-1.37c-.4-.4-.92-.59-1.43-.59-.52 0-1.04.2-1.43.59L10.3 9.45l-7.72 7.72c-.78.78-.78 2.05 0 2.83L4 21.41c.39.39.9.59 1.41.59.51 0 1.02-.2 1.41-.59l7.78-7.78 2.81-2.81c.8-.78.8-2.07 0-2.86zM5.41 20L4 18.59l7.72-7.72 1.47 1.35L5.41 20z\"/>\n",
              "  </svg>\n",
              "      </button>\n",
              "      \n",
              "  <style>\n",
              "    .colab-df-container {\n",
              "      display:flex;\n",
              "      flex-wrap:wrap;\n",
              "      gap: 12px;\n",
              "    }\n",
              "\n",
              "    .colab-df-convert {\n",
              "      background-color: #E8F0FE;\n",
              "      border: none;\n",
              "      border-radius: 50%;\n",
              "      cursor: pointer;\n",
              "      display: none;\n",
              "      fill: #1967D2;\n",
              "      height: 32px;\n",
              "      padding: 0 0 0 0;\n",
              "      width: 32px;\n",
              "    }\n",
              "\n",
              "    .colab-df-convert:hover {\n",
              "      background-color: #E2EBFA;\n",
              "      box-shadow: 0px 1px 2px rgba(60, 64, 67, 0.3), 0px 1px 3px 1px rgba(60, 64, 67, 0.15);\n",
              "      fill: #174EA6;\n",
              "    }\n",
              "\n",
              "    [theme=dark] .colab-df-convert {\n",
              "      background-color: #3B4455;\n",
              "      fill: #D2E3FC;\n",
              "    }\n",
              "\n",
              "    [theme=dark] .colab-df-convert:hover {\n",
              "      background-color: #434B5C;\n",
              "      box-shadow: 0px 1px 3px 1px rgba(0, 0, 0, 0.15);\n",
              "      filter: drop-shadow(0px 1px 2px rgba(0, 0, 0, 0.3));\n",
              "      fill: #FFFFFF;\n",
              "    }\n",
              "  </style>\n",
              "\n",
              "      <script>\n",
              "        const buttonEl =\n",
              "          document.querySelector('#df-9a0e8500-6949-4460-9cf5-cbee4bf63408 button.colab-df-convert');\n",
              "        buttonEl.style.display =\n",
              "          google.colab.kernel.accessAllowed ? 'block' : 'none';\n",
              "\n",
              "        async function convertToInteractive(key) {\n",
              "          const element = document.querySelector('#df-9a0e8500-6949-4460-9cf5-cbee4bf63408');\n",
              "          const dataTable =\n",
              "            await google.colab.kernel.invokeFunction('convertToInteractive',\n",
              "                                                     [key], {});\n",
              "          if (!dataTable) return;\n",
              "\n",
              "          const docLinkHtml = 'Like what you see? Visit the ' +\n",
              "            '<a target=\"_blank\" href=https://colab.research.google.com/notebooks/data_table.ipynb>data table notebook</a>'\n",
              "            + ' to learn more about interactive tables.';\n",
              "          element.innerHTML = '';\n",
              "          dataTable['output_type'] = 'display_data';\n",
              "          await google.colab.output.renderOutput(dataTable, element);\n",
              "          const docLink = document.createElement('div');\n",
              "          docLink.innerHTML = docLinkHtml;\n",
              "          element.appendChild(docLink);\n",
              "        }\n",
              "      </script>\n",
              "    </div>\n",
              "  </div>\n",
              "  "
            ],
            "text/plain": [
              "      client_id  nb_prods   order_id fruit_product\n",
              "63378  42742047        35  670844018     Jackfruit\n",
              "63379  42742047       -35  664120136     Jackfruit\n",
              "63380  42742047       -80  664120136        Orange\n",
              "63381  42742047        80  670844018        Orange"
            ]
          },
          "metadata": {},
          "execution_count": 20
        }
      ]
    },
    {
      "cell_type": "markdown",
      "source": [
        "We see that returns/cancellations are recorded as an order with a negative **nb_prods**.\n"
      ],
      "metadata": {
        "id": "ZPv2XH7uekf4"
      }
    },
    {
      "cell_type": "code",
      "source": [
        "orders_table[orders_table.client_id == \"24790894\"]"
      ],
      "metadata": {
        "colab": {
          "base_uri": "https://localhost:8080/",
          "height": 112
        },
        "id": "SckxS4v4XPil",
        "outputId": "63e59f6b-b81e-4388-a85f-832500558a10"
      },
      "execution_count": 21,
      "outputs": [
        {
          "output_type": "execute_result",
          "data": {
            "text/html": [
              "\n",
              "  <div id=\"df-102db0a8-93bc-4a1c-b09e-682c147a7877\">\n",
              "    <div class=\"colab-df-container\">\n",
              "      <div>\n",
              "<style scoped>\n",
              "    .dataframe tbody tr th:only-of-type {\n",
              "        vertical-align: middle;\n",
              "    }\n",
              "\n",
              "    .dataframe tbody tr th {\n",
              "        vertical-align: top;\n",
              "    }\n",
              "\n",
              "    .dataframe thead th {\n",
              "        text-align: right;\n",
              "    }\n",
              "</style>\n",
              "<table border=\"1\" class=\"dataframe\">\n",
              "  <thead>\n",
              "    <tr style=\"text-align: right;\">\n",
              "      <th></th>\n",
              "      <th>client_id</th>\n",
              "      <th>nb_prods</th>\n",
              "      <th>order_id</th>\n",
              "      <th>fruit_product</th>\n",
              "    </tr>\n",
              "  </thead>\n",
              "  <tbody>\n",
              "    <tr>\n",
              "      <th>46209</th>\n",
              "      <td>24790894</td>\n",
              "      <td>-30</td>\n",
              "      <td>666610887</td>\n",
              "      <td>Apricot</td>\n",
              "    </tr>\n",
              "    <tr>\n",
              "      <th>46210</th>\n",
              "      <td>24790894</td>\n",
              "      <td>-15</td>\n",
              "      <td>666610887</td>\n",
              "      <td>Strawberry</td>\n",
              "    </tr>\n",
              "  </tbody>\n",
              "</table>\n",
              "</div>\n",
              "      <button class=\"colab-df-convert\" onclick=\"convertToInteractive('df-102db0a8-93bc-4a1c-b09e-682c147a7877')\"\n",
              "              title=\"Convert this dataframe to an interactive table.\"\n",
              "              style=\"display:none;\">\n",
              "        \n",
              "  <svg xmlns=\"http://www.w3.org/2000/svg\" height=\"24px\"viewBox=\"0 0 24 24\"\n",
              "       width=\"24px\">\n",
              "    <path d=\"M0 0h24v24H0V0z\" fill=\"none\"/>\n",
              "    <path d=\"M18.56 5.44l.94 2.06.94-2.06 2.06-.94-2.06-.94-.94-2.06-.94 2.06-2.06.94zm-11 1L8.5 8.5l.94-2.06 2.06-.94-2.06-.94L8.5 2.5l-.94 2.06-2.06.94zm10 10l.94 2.06.94-2.06 2.06-.94-2.06-.94-.94-2.06-.94 2.06-2.06.94z\"/><path d=\"M17.41 7.96l-1.37-1.37c-.4-.4-.92-.59-1.43-.59-.52 0-1.04.2-1.43.59L10.3 9.45l-7.72 7.72c-.78.78-.78 2.05 0 2.83L4 21.41c.39.39.9.59 1.41.59.51 0 1.02-.2 1.41-.59l7.78-7.78 2.81-2.81c.8-.78.8-2.07 0-2.86zM5.41 20L4 18.59l7.72-7.72 1.47 1.35L5.41 20z\"/>\n",
              "  </svg>\n",
              "      </button>\n",
              "      \n",
              "  <style>\n",
              "    .colab-df-container {\n",
              "      display:flex;\n",
              "      flex-wrap:wrap;\n",
              "      gap: 12px;\n",
              "    }\n",
              "\n",
              "    .colab-df-convert {\n",
              "      background-color: #E8F0FE;\n",
              "      border: none;\n",
              "      border-radius: 50%;\n",
              "      cursor: pointer;\n",
              "      display: none;\n",
              "      fill: #1967D2;\n",
              "      height: 32px;\n",
              "      padding: 0 0 0 0;\n",
              "      width: 32px;\n",
              "    }\n",
              "\n",
              "    .colab-df-convert:hover {\n",
              "      background-color: #E2EBFA;\n",
              "      box-shadow: 0px 1px 2px rgba(60, 64, 67, 0.3), 0px 1px 3px 1px rgba(60, 64, 67, 0.15);\n",
              "      fill: #174EA6;\n",
              "    }\n",
              "\n",
              "    [theme=dark] .colab-df-convert {\n",
              "      background-color: #3B4455;\n",
              "      fill: #D2E3FC;\n",
              "    }\n",
              "\n",
              "    [theme=dark] .colab-df-convert:hover {\n",
              "      background-color: #434B5C;\n",
              "      box-shadow: 0px 1px 3px 1px rgba(0, 0, 0, 0.15);\n",
              "      filter: drop-shadow(0px 1px 2px rgba(0, 0, 0, 0.3));\n",
              "      fill: #FFFFFF;\n",
              "    }\n",
              "  </style>\n",
              "\n",
              "      <script>\n",
              "        const buttonEl =\n",
              "          document.querySelector('#df-102db0a8-93bc-4a1c-b09e-682c147a7877 button.colab-df-convert');\n",
              "        buttonEl.style.display =\n",
              "          google.colab.kernel.accessAllowed ? 'block' : 'none';\n",
              "\n",
              "        async function convertToInteractive(key) {\n",
              "          const element = document.querySelector('#df-102db0a8-93bc-4a1c-b09e-682c147a7877');\n",
              "          const dataTable =\n",
              "            await google.colab.kernel.invokeFunction('convertToInteractive',\n",
              "                                                     [key], {});\n",
              "          if (!dataTable) return;\n",
              "\n",
              "          const docLinkHtml = 'Like what you see? Visit the ' +\n",
              "            '<a target=\"_blank\" href=https://colab.research.google.com/notebooks/data_table.ipynb>data table notebook</a>'\n",
              "            + ' to learn more about interactive tables.';\n",
              "          element.innerHTML = '';\n",
              "          dataTable['output_type'] = 'display_data';\n",
              "          await google.colab.output.renderOutput(dataTable, element);\n",
              "          const docLink = document.createElement('div');\n",
              "          docLink.innerHTML = docLinkHtml;\n",
              "          element.appendChild(docLink);\n",
              "        }\n",
              "      </script>\n",
              "    </div>\n",
              "  </div>\n",
              "  "
            ],
            "text/plain": [
              "      client_id  nb_prods   order_id fruit_product\n",
              "46209  24790894       -30  666610887       Apricot\n",
              "46210  24790894       -15  666610887    Strawberry"
            ]
          },
          "metadata": {},
          "execution_count": 21
        }
      ]
    },
    {
      "cell_type": "markdown",
      "source": [
        "Some customers only have returns registered. We can interpret that the acquisitions of these products were registered in the year 2019, and the cancellations in 2020."
      ],
      "metadata": {
        "id": "x6gWUgRkZgSK"
      }
    },
    {
      "cell_type": "code",
      "source": [
        "#on average each customer has made 1.2 orders\n",
        "orders_table.groupby('client_id')['order_id'].nunique().values.mean()"
      ],
      "metadata": {
        "colab": {
          "base_uri": "https://localhost:8080/"
        },
        "id": "A4zNoaks-q_k",
        "outputId": "d1121a4c-fead-46b6-cbc4-51518471e5d4"
      },
      "execution_count": 22,
      "outputs": [
        {
          "output_type": "execute_result",
          "data": {
            "text/plain": [
              "1.2040830402096696"
            ]
          },
          "metadata": {},
          "execution_count": 22
        }
      ]
    },
    {
      "cell_type": "code",
      "source": [
        "orders_info = pd.DataFrame(orders_table.groupby('client_id')['order_id'].nunique()).rename(columns = {'order_id':'n_order_id'})\n",
        "sns.set(rc={'figure.figsize':(10,5)})\n",
        "sns.countplot(x=\"n_order_id\", data=orders_info)\n",
        "plt.show()"
      ],
      "metadata": {
        "colab": {
          "base_uri": "https://localhost:8080/",
          "height": 338
        },
        "id": "1HJtOVsJDfQZ",
        "outputId": "1fd1b11f-9f60-4f81-dfe1-1af4b03f45bb"
      },
      "execution_count": 23,
      "outputs": [
        {
          "output_type": "display_data",
          "data": {
            "image/png": "[encoded data removed]",
            "text/plain": [
              "<Figure size 720x360 with 1 Axes>"
            ]
          },
          "metadata": {}
        }
      ]
    },
    {
      "cell_type": "markdown",
      "source": [
        "- most customers have placed only one order in 2020\n",
        "- Some customers have made multiple orders. These could be considered frequent customers."
      ],
      "metadata": {
        "id": "tt1CURf1T5oD"
      }
    },
    {
      "cell_type": "code",
      "source": [
        "orders_info[\"n_orders\"] = orders_table.groupby('client_id')[['nb_prods']].count()\n",
        "sns.countplot(x=\"n_orders\", data=orders_info)\n",
        "plt.show()"
      ],
      "metadata": {
        "colab": {
          "base_uri": "https://localhost:8080/",
          "height": 338
        },
        "id": "w7U-eT7jwHw9",
        "outputId": "ef4ef345-703b-4f46-d84c-301b5f4aeae7"
      },
      "execution_count": 24,
      "outputs": [
        {
          "output_type": "display_data",
          "data": {
            "image/png": "[encoded data removed]",
            "text/plain": [
              "<Figure size 720x360 with 1 Axes>"
            ]
          },
          "metadata": {}
        }
      ]
    },
    {
      "cell_type": "code",
      "source": [
        "orders_info[\"n_cancel_orders\"] = orders_table[orders_table.nb_prods < 0].groupby('client_id')[['nb_prods']].count()\n",
        "sns.countplot(x=\"n_cancel_orders\",  data=orders_info[orders_info.n_cancel_orders>0])\n",
        "plt.show()"
      ],
      "metadata": {
        "colab": {
          "base_uri": "https://localhost:8080/",
          "height": 338
        },
        "id": "-y5HMHGMbOJo",
        "outputId": "95fc373d-b6b2-4b33-d7ea-c21a237d22be"
      },
      "execution_count": 26,
      "outputs": [
        {
          "output_type": "display_data",
          "data": {
            "image/png": "[encoded data removed]",
            "text/plain": [
              "<Figure size 720x360 with 1 Axes>"
            ]
          },
          "metadata": {}
        }
      ]
    },
    {
      "cell_type": "code",
      "source": [
        "#on average each customer has purchased 20.89 \"prod\" units\n",
        "orders_table.groupby('client_id')['nb_prods'].sum().values.mean()"
      ],
      "metadata": {
        "colab": {
          "base_uri": "https://localhost:8080/"
        },
        "id": "tVsOZj4UAYhY",
        "outputId": "ec465446-d4b4-408a-86a1-8a8af53f1e01"
      },
      "execution_count": 27,
      "outputs": [
        {
          "output_type": "execute_result",
          "data": {
            "text/plain": [
              "20.896958410924892"
            ]
          },
          "metadata": {},
          "execution_count": 27
        }
      ]
    },
    {
      "cell_type": "code",
      "source": [
        "orders_info[\"n_ordered_prod\"] = orders_table[orders_table.nb_prods > 0].groupby('client_id')['nb_prods'].sum()\n",
        "sns.histplot(x=\"n_ordered_prod\", data=orders_info)\n",
        "plt.show()"
      ],
      "metadata": {
        "colab": {
          "base_uri": "https://localhost:8080/",
          "height": 338
        },
        "id": "dlEDsFqylZR9",
        "outputId": "f8432a96-edaf-45c1-a4cb-a87d2d704512"
      },
      "execution_count": 28,
      "outputs": [
        {
          "output_type": "display_data",
          "data": {
            "image/png": "[encoded data removed]",
            "text/plain": [
              "<Figure size 720x360 with 1 Axes>"
            ]
          },
          "metadata": {}
        }
      ]
    },
    {
      "cell_type": "code",
      "source": [
        "orders_info[\"n_canceled_prods\"] = orders_table[orders_table.nb_prods <= 0].groupby('client_id')[['nb_prods']].sum().abs()\n",
        "sns.countplot(x=\"n_canceled_prods\",  data=orders_info[orders_info.n_canceled_prods>0])\n",
        "plt.show()"
      ],
      "metadata": {
        "colab": {
          "base_uri": "https://localhost:8080/",
          "height": 338
        },
        "id": "-8LoTc43xunz",
        "outputId": "f325e52f-bbe9-4827-b7f6-dac43acc725a"
      },
      "execution_count": 29,
      "outputs": [
        {
          "output_type": "display_data",
          "data": {
            "image/png": "[encoded data removed]",
            "text/plain": [
              "<Figure size 720x360 with 1 Axes>"
            ]
          },
          "metadata": {}
        }
      ]
    },
    {
      "cell_type": "code",
      "source": [
        "orders_info[\"n_total_prod\"] = orders_table.groupby('client_id')['nb_prods'].sum()\n",
        "sns.histplot(x=\"n_total_prod\",  data=orders_info)\n",
        "plt.show()"
      ],
      "metadata": {
        "colab": {
          "base_uri": "https://localhost:8080/",
          "height": 338
        },
        "id": "ytyDjPCMmnca",
        "outputId": "e1ee67a3-7baa-4ccf-cc2d-685ff9a5a834"
      },
      "execution_count": 30,
      "outputs": [
        {
          "output_type": "display_data",
          "data": {
            "image/png": "[encoded data removed]",
            "text/plain": [
              "<Figure size 720x360 with 1 Axes>"
            ]
          },
          "metadata": {}
        }
      ]
    },
    {
      "cell_type": "code",
      "source": [
        "#on average each customer has purchased 4.06 different \"prod\"\n",
        "orders_table.groupby('client_id')['fruit_product'].nunique().values.mean()"
      ],
      "metadata": {
        "colab": {
          "base_uri": "https://localhost:8080/"
        },
        "id": "M1g96YqJ7xSV",
        "outputId": "242b5dfd-d503-4580-8eb6-19fe0556da22"
      },
      "execution_count": 31,
      "outputs": [
        {
          "output_type": "execute_result",
          "data": {
            "text/plain": [
              "4.0607628112283605"
            ]
          },
          "metadata": {},
          "execution_count": 31
        }
      ]
    },
    {
      "cell_type": "code",
      "source": [
        "orders_info[\"n_diff_prod\"] = orders_table.groupby('client_id')['fruit_product'].nunique()\n",
        "sns.countplot(x=\"n_diff_prod\", data=orders_info)\n",
        "plt.show()"
      ],
      "metadata": {
        "colab": {
          "base_uri": "https://localhost:8080/",
          "height": 338
        },
        "id": "a5g92x7TGeii",
        "outputId": "aca0d3db-aebf-480c-cad9-cc1750f328d9"
      },
      "execution_count": 32,
      "outputs": [
        {
          "output_type": "display_data",
          "data": {
            "image/png": "[encoded data removed]",
            "text/plain": [
              "<Figure size 720x360 with 1 Axes>"
            ]
          },
          "metadata": {}
        }
      ]
    },
    {
      "cell_type": "code",
      "source": [
        "print(\"number of Customers who have made cancellations: {}\".format(orders_info[orders_info.n_cancel_orders>0].shape[0]))\n",
        "print(\"number of Customers who canceled their order without having placed any order in the year 2020: {}\".format(orders_info[orders_info.n_total_prod<0].shape[0]))"
      ],
      "metadata": {
        "colab": {
          "base_uri": "https://localhost:8080/"
        },
        "id": "eajZbS0axjmc",
        "outputId": "54ddeffa-7e60-4ba5-a1ff-c913e9f00df1"
      },
      "execution_count": 33,
      "outputs": [
        {
          "output_type": "stream",
          "name": "stdout",
          "text": [
            "number of Customers who have made cancellations: 102\n",
            "number of Customers who canceled their order without having placed any order in the year 2020: 12\n"
          ]
        }
      ]
    },
    {
      "cell_type": "code",
      "source": [
        "fruit = orders_table.groupby(by=['client_id','fruit_product'])[['nb_prods']].sum().reset_index().pivot(index='client_id', columns='fruit_product', values='nb_prods')"
      ],
      "metadata": {
        "id": "gEt9gNDFGsaL"
      },
      "execution_count": 34,
      "outputs": []
    },
    {
      "cell_type": "code",
      "source": [
        "orders_info = orders_info.merge(fruit, left_index=True, right_index=True)"
      ],
      "metadata": {
        "id": "OlcdqAHqJA2W"
      },
      "execution_count": 35,
      "outputs": []
    },
    {
      "cell_type": "code",
      "source": [
        "client_table.set_index(\"client_id\", inplace=True, drop=True)"
      ],
      "metadata": {
        "id": "vhe-MAmrJ2pZ"
      },
      "execution_count": 36,
      "outputs": []
    },
    {
      "cell_type": "code",
      "source": [
        "df = client_table.merge(orders_info, left_index=True, right_index=True)"
      ],
      "metadata": {
        "id": "savHeShIMHx_"
      },
      "execution_count": 37,
      "outputs": []
    },
    {
      "cell_type": "markdown",
      "source": [
        "# Predictions"
      ],
      "metadata": {
        "id": "90qzDXUZo3ps"
      }
    },
    {
      "cell_type": "code",
      "source": [
        "matrix = df.drop(columns=\"client_segment\").values"
      ],
      "metadata": {
        "id": "J6QTF7O5PoH2"
      },
      "execution_count": 38,
      "outputs": []
    },
    {
      "cell_type": "code",
      "source": [
        "scaler = MinMaxScaler()\n",
        "scaler.fit(matrix)\n",
        "scaled_matrix = scaler.transform(matrix)"
      ],
      "metadata": {
        "id": "t_5b2MGZP9WL"
      },
      "execution_count": 39,
      "outputs": []
    },
    {
      "cell_type": "code",
      "source": [
        "X = matrix\n",
        "Y = df['client_segment']"
      ],
      "metadata": {
        "id": "sQQjmOUPLokG"
      },
      "execution_count": 40,
      "outputs": []
    },
    {
      "cell_type": "code",
      "source": [
        "X_train, X_test, Y_train, Y_test = model_selection.train_test_split(X, Y, train_size = 0.8, random_state=0,stratify=Y)"
      ],
      "metadata": {
        "id": "O0M3uRChKRnR"
      },
      "execution_count": 41,
      "outputs": []
    },
    {
      "cell_type": "markdown",
      "metadata": {
        "_cell_guid": "5c0a6c67-93ed-4dd3-bc11-f3cb107ee9c2",
        "_uuid": "5f47f200bbc07f370f1a3e8940af87d35a4c08c7",
        "id": "vFt0PVsohEv8"
      },
      "source": [
        "\n",
        "\n",
        "\n",
        "###SVC\n"
      ]
    },
    {
      "cell_type": "code",
      "source": [
        "svc = Class_Fit(clf = svm.LinearSVC)\n",
        "svc.grid_search(parameters = [{'C':np.logspace(-2,2,10)}], Kfold = 5)\n",
        "svc.grid_fit(X = X_train, Y = Y_train)\n",
        "svc.grid_predict(X_test, Y_test)"
      ],
      "metadata": {
        "colab": {
          "base_uri": "https://localhost:8080/"
        },
        "id": "K9Ef1ecuN6Gv",
        "outputId": "62ff91be-39ce-44ac-f6e0-795b69b785ce"
      },
      "execution_count": 429,
      "outputs": [
        {
          "output_type": "stream",
          "name": "stdout",
          "text": [
            "Precision: 66.75 % \n"
          ]
        }
      ]
    },
    {
      "cell_type": "markdown",
      "metadata": {
        "_cell_guid": "5c0a6c67-93ed-4dd3-bc11-f3cb107ee9c2",
        "_uuid": "5f47f200bbc07f370f1a3e8940af87d35a4c08c7",
        "id": "wbyeZmbeOaF5"
      },
      "source": [
        "\n",
        "\n",
        "\n",
        "###Logistic Regression\n"
      ]
    },
    {
      "cell_type": "code",
      "source": [
        "lr = Class_Fit(clf = linear_model.LogisticRegression)\n",
        "lr.grid_search(parameters = [{'C':np.logspace(-2,2,20)}], Kfold = )\n",
        "lr.grid_fit(X = X_train, Y = Y_train)\n",
        "lr.grid_predict(X_test, Y_test)"
      ],
      "metadata": {
        "colab": {
          "base_uri": "https://localhost:8080/"
        },
        "id": "K1GMJbpqVw2y",
        "outputId": "745656a9-5b2f-4411-baa1-ac553d83c974"
      },
      "execution_count": 435,
      "outputs": [
        {
          "output_type": "stream",
          "name": "stdout",
          "text": [
            "Precision: 58.05 % \n"
          ]
        }
      ]
    },
    {
      "cell_type": "code",
      "execution_count": null,
      "metadata": {
        "_cell_guid": "c37cd77b-f96d-483b-bb57-14db65f97039",
        "_kg_hide-input": true,
        "_uuid": "9ee59b5060327224a4356be75ee1221b4e9fb0ab",
        "id": "WxPskll9OaF7",
        "outputId": "3abc37f6-b47d-4c83-d627-889f1fdd8e7b"
      },
      "outputs": [
        {
          "name": "stdout",
          "output_type": "stream",
          "text": [
            "Precision: 86.29 % \n"
          ]
        }
      ],
      "source": [
        "lr = Class_Fit(clf = linear_model.LogisticRegression)\n",
        "lr.grid_search(parameters = [{'C':np.logspace(-2,2,20)}], Kfold = 5)\n",
        "lr.grid_fit(X = X_train, Y = Y_train)\n",
        "lr.grid_predict(X_test, Y_test)"
      ]
    },
    {
      "cell_type": "markdown",
      "metadata": {
        "_cell_guid": "600918f4-6211-4f52-a6ec-82777e8ca37a",
        "_uuid": "6e74472ba1f136a34fcdddf01b19d2e9af9d96fa",
        "id": "TnIf25DNOaF9"
      },
      "source": [
        "### k-Nearest Neighbors"
      ]
    },
    {
      "cell_type": "code",
      "execution_count": 436,
      "metadata": {
        "_cell_guid": "93db008f-7525-4705-aa66-ca3e407bfa3f",
        "_kg_hide-input": true,
        "_uuid": "c898bc2cc957afd96dd317aecc160b23efe3c973",
        "id": "QlMom2OIOaF-",
        "outputId": "aae78b45-d2d6-41b0-fc9a-3ef643d94923",
        "colab": {
          "base_uri": "https://localhost:8080/"
        }
      },
      "outputs": [
        {
          "output_type": "stream",
          "name": "stdout",
          "text": [
            "Precision: 79.92 % \n"
          ]
        }
      ],
      "source": [
        "knn = Class_Fit(clf = neighbors.KNeighborsClassifier)\n",
        "knn.grid_search(parameters = [{'n_neighbors': np.arange(1,50,1)}], Kfold = 2)\n",
        "knn.grid_fit(X = X_train, Y = Y_train)\n",
        "knn.grid_predict(X_test, Y_test)"
      ]
    },
    {
      "cell_type": "markdown",
      "metadata": {
        "_cell_guid": "43089987-a289-407c-b6e7-82dd0b4f86fb",
        "_uuid": "ca3adb1bdc494a6b012b200a1f935031eaf4f5b8",
        "id": "rBbtkTgFOaGD"
      },
      "source": [
        "### Decision Tree"
      ]
    },
    {
      "cell_type": "code",
      "execution_count": 437,
      "metadata": {
        "_cell_guid": "0a4cd7ef-f03c-4c7a-8b78-0dc26dab137b",
        "_kg_hide-input": true,
        "_uuid": "48dbd3e263d5b8113b8ef64677e6df4c20076a7c",
        "id": "C93DYvWtOaGF",
        "outputId": "ebd782da-8b1b-4d13-d0b4-3baa7efc6ef9",
        "colab": {
          "base_uri": "https://localhost:8080/"
        }
      },
      "outputs": [
        {
          "output_type": "stream",
          "name": "stdout",
          "text": [
            "Precision: 66.57 % \n"
          ]
        }
      ],
      "source": [
        "tr = Class_Fit(clf = tree.DecisionTreeClassifier)\n",
        "tr.grid_search(parameters = [{'criterion' : ['entropy', 'gini'], 'max_features' :['sqrt', 'log2']}], Kfold = 2)\n",
        "tr.grid_fit(X = X_train, Y = Y_train)\n",
        "tr.grid_predict(X_test, Y_test)"
      ]
    },
    {
      "cell_type": "markdown",
      "metadata": {
        "_cell_guid": "67fc7d71-2722-44ef-bf78-893f0e8116d1",
        "_uuid": "6d8db24aa70ef84521664c217b0f9fa731f9cbe1",
        "id": "fAFd-bB7OaGH"
      },
      "source": [
        "### Random Forest"
      ]
    },
    {
      "cell_type": "code",
      "execution_count": 438,
      "metadata": {
        "_cell_guid": "191ce09c-a67d-434e-99e2-f186d9b21095",
        "_kg_hide-input": true,
        "_uuid": "5fd4df1e26bd7cdf10dfcf245fddafff86790f8c",
        "id": "hmhRg5GXOaGH",
        "outputId": "c613fbcd-3b2d-4d09-de4d-50cdee5ed211",
        "colab": {
          "base_uri": "https://localhost:8080/"
        }
      },
      "outputs": [
        {
          "output_type": "stream",
          "name": "stdout",
          "text": [
            "Precision: 79.72 % \n"
          ]
        }
      ],
      "source": [
        "rf = Class_Fit(clf = ensemble.RandomForestClassifier)\n",
        "param_grid = {'criterion' : ['entropy', 'gini'], 'n_estimators' : [20, 40, 60, 80, 100],\n",
        "               'max_features' :['sqrt', 'log2']}\n",
        "rf.grid_search(parameters = param_grid, Kfold = 2)\n",
        "rf.grid_fit(X = X_train, Y = Y_train)\n",
        "rf.grid_predict(X_test, Y_test)"
      ]
    },
    {
      "cell_type": "markdown",
      "metadata": {
        "_cell_guid": "5d7add5f-9247-4f59-a3ab-12a7a5fc269f",
        "_uuid": "ec49824cd052c1898730e7acb6ce684d63c9c22e",
        "id": "s1HShzUtOaGK"
      },
      "source": [
        "### AdaBoost Classifier"
      ]
    },
    {
      "cell_type": "code",
      "execution_count": 439,
      "metadata": {
        "_cell_guid": "91c38cf5-f042-47d8-b74e-f7a0f9718f26",
        "_kg_hide-input": true,
        "_uuid": "26780fd696188d6b3f8cd9dad2f187003148ee19",
        "id": "nQVxqcWTOaGK",
        "outputId": "9df55b09-52b1-4781-82b3-2125447c9b0b",
        "colab": {
          "base_uri": "https://localhost:8080/"
        }
      },
      "outputs": [
        {
          "output_type": "stream",
          "name": "stdout",
          "text": [
            "Precision: 46.77 % \n"
          ]
        }
      ],
      "source": [
        "ada = Class_Fit(clf = AdaBoostClassifier)\n",
        "param_grid = {'n_estimators' : [10, 20, 30, 40, 50, 60, 70, 80, 90, 100]}\n",
        "ada.grid_search(parameters = param_grid, Kfold = 2)\n",
        "ada.grid_fit(X = X_train, Y = Y_train)\n",
        "ada.grid_predict(X_test, Y_test)"
      ]
    },
    {
      "cell_type": "markdown",
      "metadata": {
        "_cell_guid": "bca75b42-7617-428a-8d56-b8ec68378cee",
        "_uuid": "376352a7039a8037ba7acbcb788b58cfc9b38e67",
        "id": "RT3FHCmhOaGM"
      },
      "source": [
        "###Gradient Boosting Classifier"
      ]
    },
    {
      "cell_type": "code",
      "execution_count": 440,
      "metadata": {
        "_cell_guid": "d3cd367f-d2e9-498d-bb82-c1137dd21fdf",
        "_kg_hide-input": true,
        "_uuid": "f85e385c75291843a7c8db847aee48070f60e7ee",
        "id": "NpR3Zl0jOaGM",
        "outputId": "e170ee89-fe61-44c8-b55a-9027a3dd4f93",
        "colab": {
          "base_uri": "https://localhost:8080/"
        }
      },
      "outputs": [
        {
          "output_type": "stream",
          "name": "stdout",
          "text": [
            "Precision: 81.30 % \n"
          ]
        }
      ],
      "source": [
        "gb = Class_Fit(clf = ensemble.GradientBoostingClassifier)\n",
        "param_grid = {'n_estimators' : [10, 20, 30, 40, 50, 60, 70, 80, 90, 100]}\n",
        "gb.grid_search(parameters = param_grid, Kfold = 2)\n",
        "gb.grid_fit(X = X_train, Y = Y_train)\n",
        "gb.grid_predict(X_test, Y_test)"
      ]
    },
    {
      "cell_type": "markdown",
      "source": [
        "# model selection"
      ],
      "metadata": {
        "id": "V42WOF1yo_6K"
      }
    },
    {
      "cell_type": "code",
      "execution_count": 441,
      "metadata": {
        "_cell_guid": "532dcc6f-33a1-4726-a07a-e4bb2ef0b396",
        "_kg_hide-input": true,
        "_uuid": "40c82b43dd34bb9b7685c76bea0f5ca7e761c1d4",
        "id": "opRPLPJwOaGP"
      },
      "outputs": [],
      "source": [
        "rf_best  = ensemble.RandomForestClassifier(**rf.grid.best_params_)\n",
        "gb_best  = ensemble.GradientBoostingClassifier(**gb.grid.best_params_)\n",
        "svc_best = svm.LinearSVC(**svc.grid.best_params_)\n",
        "tr_best  = tree.DecisionTreeClassifier(**tr.grid.best_params_)\n",
        "knn_best = neighbors.KNeighborsClassifier(**knn.grid.best_params_)\n",
        "lr_best  = linear_model.LogisticRegression(**lr.grid.best_params_)"
      ]
    },
    {
      "cell_type": "code",
      "execution_count": 442,
      "metadata": {
        "_cell_guid": "7d80dd22-3e03-4069-b27d-cfad906a5acd",
        "_kg_hide-input": true,
        "_uuid": "9aedb584c04d4291460c4d30d215e6b2a33d879c",
        "id": "BFl1c1YTOaGR"
      },
      "outputs": [],
      "source": [
        "votingC = ensemble.VotingClassifier(estimators=[('rf', rf_best),('gb', gb_best),\n",
        "                                                ('knn', knn_best)], voting='soft')    "
      ]
    },
    {
      "cell_type": "code",
      "execution_count": 443,
      "metadata": {
        "_cell_guid": "bdd0e288-9e46-477b-94a1-a4bfa7fd9b93",
        "_kg_hide-input": true,
        "_uuid": "a89f838c7552464dd07c477ec3d9fd1aae91718c",
        "id": "SYsfIUJtOaGS"
      },
      "outputs": [],
      "source": [
        "votingC = votingC.fit(X_train, Y_train)"
      ]
    },
    {
      "cell_type": "code",
      "execution_count": 444,
      "metadata": {
        "_cell_guid": "40d3aad9-7cdf-45b1-8848-863fd003dbe1",
        "_kg_hide-input": true,
        "_uuid": "d582d291f5e82fb666b2e7bc80acd2851c9d87c5",
        "id": "fO6H3p4AOaGU",
        "outputId": "5b455686-8a78-4e31-c0f8-d13e0b3d789e",
        "colab": {
          "base_uri": "https://localhost:8080/"
        }
      },
      "outputs": [
        {
          "output_type": "stream",
          "name": "stdout",
          "text": [
            "Precision: 81.23 % \n"
          ]
        }
      ],
      "source": [
        "predictions = votingC.predict(X_test)\n",
        "print(\"Precision: {:.2f} % \".format(100*metrics.accuracy_score(Y_test, predictions)))"
      ]
    },
    {
      "cell_type": "markdown",
      "source": [
        "# f1_score"
      ],
      "metadata": {
        "id": "H_TxVvxEpH35"
      }
    },
    {
      "cell_type": "code",
      "source": [
        "f1_score(Y_test, predictions, average='macro')"
      ],
      "metadata": {
        "colab": {
          "base_uri": "https://localhost:8080/"
        },
        "id": "kgYBUdgPb1ml",
        "outputId": "df64e7ce-02c1-456f-ea02-3dec19009d66"
      },
      "execution_count": 464,
      "outputs": [
        {
          "output_type": "execute_result",
          "data": {
            "text/plain": [
              "0.6997980128017723"
            ]
          },
          "metadata": {},
          "execution_count": 464
        }
      ]
    }
  ]
}